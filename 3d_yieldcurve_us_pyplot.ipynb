{
 "cells": [
  {
   "cell_type": "code",
   "execution_count": 11,
   "metadata": {},
   "outputs": [],
   "source": [
    "import numpy as np\n",
    "import matplotlib.pyplot as plt\n",
    "from mpl_toolkits.mplot3d import Axes3D\n",
    "import quandl\n",
    "import matplotlib.dates as dates\n",
    "import matplotlib.ticker as ticker\n",
    "from ipywidgets import interact"
   ]
  },
  {
   "cell_type": "code",
   "execution_count": 12,
   "metadata": {},
   "outputs": [],
   "source": [
    "# Fetch data from Quandl\n",
    "data = quandl.get('USTREASURY/YIELD', returns='numpy', trim_start=\"2022-06-01\")"
   ]
  },
  {
   "cell_type": "code",
   "execution_count": 13,
   "metadata": {},
   "outputs": [],
   "source": [
    "# Convert header to float\n",
    "header = [float(name.split(\" \")[0]) / (12 if name.split(\" \")[1] == 'Mo' else 1) for name in data.dtype.names[1:]]"
   ]
  },
  {
   "cell_type": "code",
   "execution_count": 14,
   "metadata": {},
   "outputs": [],
   "source": [
    "# Extract x, y, and z data\n",
    "x_data = [[dates.date2num(dt) for i in range(len(data.dtype.names)-1)] for dt in data.Date]\n",
    "y_data = [header] * len(data)\n",
    "z_data = [list(row.tolist()[1:]) for row in data]"
   ]
  },
  {
   "cell_type": "code",
   "execution_count": 15,
   "metadata": {},
   "outputs": [],
   "source": [
    "# Build numpy arrays\n",
    "x = np.array(x_data, dtype='f')\n",
    "y = np.array(y_data, dtype='f')\n",
    "z = np.array(z_data, dtype='f')"
   ]
  },
  {
   "cell_type": "code",
   "execution_count": 16,
   "metadata": {},
   "outputs": [
    {
     "data": {
      "application/vnd.jupyter.widget-view+json": {
       "model_id": "73139003367d4192ad55eb11e5a7b231",
       "version_major": 2,
       "version_minor": 0
      },
      "text/plain": [
       "interactive(children=(IntSlider(value=10, description='elev', max=90, step=5), IntSlider(value=270, descriptio…"
      ]
     },
     "metadata": {},
     "output_type": "display_data"
    },
    {
     "data": {
      "text/plain": [
       "<function __main__.plot_interactive_3d(elev=10, azim=270)>"
      ]
     },
     "execution_count": 16,
     "metadata": {},
     "output_type": "execute_result"
    }
   ],
   "source": [
    "def plot_interactive_3d(elev=10, azim=270):\n",
    "    fig = plt.figure(figsize=(30, 20))\n",
    "    ax = fig.add_subplot(111, projection='3d')\n",
    "    \n",
    "    surf = ax.plot_surface(x, y, z, rstride=50, cstride=1, cmap='inferno', vmin=np.nanmin(z), vmax=np.nanmax(z))\n",
    "\n",
    "    ax.set_title('US Treasury Yield Curve')\n",
    "    ax.set_ylabel('Maturity')\n",
    "    ax.set_zlabel('Yield')\n",
    "    ax.set_xlabel('Term')\n",
    "\n",
    "    ax.view_init(elev=elev, azim=azim)\n",
    "\n",
    "    def format_date(x, pos=None):\n",
    "        return dates.num2date(x).strftime('%Y-%m-%d')\n",
    "\n",
    "    ax.w_xaxis.set_major_formatter(ticker.FuncFormatter(format_date))\n",
    "    for tl in ax.w_xaxis.get_ticklabels():\n",
    "        tl.set_ha('right')\n",
    "        tl.set_rotation(15)\n",
    "    fig.colorbar(surf)\n",
    "    plt.show()\n",
    "interact(plot_interactive_3d, elev=(0, 90, 5), azim=(0, 360, 5))"
   ]
  }
 ],
 "metadata": {
  "kernelspec": {
   "display_name": "Python 3.9.9 64-bit ('3.9.9')",
   "language": "python",
   "name": "python3"
  },
  "language_info": {
   "codemirror_mode": {
    "name": "ipython",
    "version": 3
   },
   "file_extension": ".py",
   "mimetype": "text/x-python",
   "name": "python",
   "nbconvert_exporter": "python",
   "pygments_lexer": "ipython3",
   "version": "3.9.9"
  },
  "orig_nbformat": 4,
  "vscode": {
   "interpreter": {
    "hash": "1c95522b8610f0d060f1fbdf33cabdb485b8ccc74d5b9792def75a3c555f9532"
   }
  }
 },
 "nbformat": 4,
 "nbformat_minor": 2
}
