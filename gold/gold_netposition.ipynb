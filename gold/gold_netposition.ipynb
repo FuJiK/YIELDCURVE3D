{
 "cells": [
  {
   "cell_type": "code",
   "execution_count": 6,
   "metadata": {},
   "outputs": [],
   "source": [
    "import quandl\n",
    "import plotly.graph_objects as go\n",
    "from datetime import datetime, timedelta\n",
    "from credential.api_key import QUANDL_API_KEY"
   ]
  },
  {
   "cell_type": "code",
   "execution_count": 7,
   "metadata": {},
   "outputs": [],
   "source": [
    "# Quandl APIキーを設定\n",
    "quandl.ApiConfig.api_key = QUANDL_API_KEY # ここにAPIキーを入力"
   ]
  },
  {
   "cell_type": "code",
   "execution_count": 8,
   "metadata": {},
   "outputs": [],
   "source": [
    "# 過去一年分の日付を設定\n",
    "end_date = datetime.now()\n",
    "start_date = end_date - timedelta(days=365)"
   ]
  },
  {
   "cell_type": "code",
   "execution_count": 9,
   "metadata": {},
   "outputs": [],
   "source": [
    "# QuandlからCOTレポートの金先物情報を取得\n",
    "cot_data = quandl.get('CFTC/088691_FO_ALL', start_date=start_date, end_date=end_date)"
   ]
  },
  {
   "cell_type": "code",
   "execution_count": 11,
   "metadata": {},
   "outputs": [],
   "source": [
    "# Total Reportable LongsとNon-Reportable Longsの和を計算し、新しいカラムを追加\n",
    "cot_data['Total Longs'] = cot_data['Total Reportable Longs'] + cot_data['Non Reportable Longs']\n",
    "\n",
    "# Total Reportable ShortsとNon-Reportable Shortsの和を計算し、新しいカラムを追加\n",
    "cot_data['Total Shorts'] = cot_data['Total Reportable Shorts'] + cot_data['Non Reportable Shorts']"
   ]
  },
  {
   "cell_type": "code",
   "execution_count": 12,
   "metadata": {},
   "outputs": [
    {
     "data": {
      "application/vnd.plotly.v1+json": {
       "config": {
        "plotlyServerURL": "https://plot.ly"
       },
       "data": [
        {
         "mode": "lines",
         "name": "Open Interest",
         "type": "scatter",
         "x": [
          "2022-04-19T00:00:00",
          "2022-04-26T00:00:00",
          "2022-05-03T00:00:00",
          "2022-05-10T00:00:00",
          "2022-05-17T00:00:00",
          "2022-05-24T00:00:00",
          "2022-05-31T00:00:00",
          "2022-06-07T00:00:00",
          "2022-06-14T00:00:00",
          "2022-06-21T00:00:00",
          "2022-06-28T00:00:00",
          "2022-07-05T00:00:00",
          "2022-07-12T00:00:00",
          "2022-07-19T00:00:00",
          "2022-07-26T00:00:00",
          "2022-08-02T00:00:00",
          "2022-08-09T00:00:00",
          "2022-08-16T00:00:00",
          "2022-08-23T00:00:00",
          "2022-08-30T00:00:00",
          "2022-09-06T00:00:00",
          "2022-09-13T00:00:00",
          "2022-09-20T00:00:00",
          "2022-09-27T00:00:00",
          "2022-10-04T00:00:00",
          "2022-10-11T00:00:00",
          "2022-10-18T00:00:00",
          "2022-10-25T00:00:00",
          "2022-11-01T00:00:00",
          "2022-11-08T00:00:00",
          "2022-11-15T00:00:00",
          "2022-11-22T00:00:00",
          "2022-11-29T00:00:00",
          "2022-12-06T00:00:00",
          "2022-12-13T00:00:00",
          "2022-12-20T00:00:00",
          "2022-12-27T00:00:00",
          "2023-01-03T00:00:00",
          "2023-01-10T00:00:00",
          "2023-01-17T00:00:00",
          "2023-01-24T00:00:00",
          "2023-01-31T00:00:00",
          "2023-02-07T00:00:00",
          "2023-02-14T00:00:00",
          "2023-02-21T00:00:00",
          "2023-02-28T00:00:00",
          "2023-03-07T00:00:00",
          "2023-03-14T00:00:00",
          "2023-03-21T00:00:00",
          "2023-03-28T00:00:00",
          "2023-04-04T00:00:00",
          "2023-04-11T00:00:00"
         ],
         "y": [
          776562,
          728774,
          731812,
          741917,
          727353,
          717726,
          641087,
          622353,
          643209,
          639784,
          622359,
          641642,
          694137,
          677492,
          622683,
          613727,
          612376,
          598603,
          598932,
          581386,
          594783,
          593418,
          618780,
          584868,
          588463,
          574421,
          582348,
          606961,
          599297,
          645338,
          684124,
          570841,
          559524,
          566225,
          606562,
          606785,
          579634,
          606863,
          664014,
          705668,
          733468,
          661942,
          620608,
          605576,
          599637,
          575384,
          615245,
          676591,
          718931,
          711739,
          748112,
          736307
         ]
        },
        {
         "mode": "lines",
         "name": "Long Positions",
         "type": "scatter",
         "x": [
          "2022-04-19T00:00:00",
          "2022-04-26T00:00:00",
          "2022-05-03T00:00:00",
          "2022-05-10T00:00:00",
          "2022-05-17T00:00:00",
          "2022-05-24T00:00:00",
          "2022-05-31T00:00:00",
          "2022-06-07T00:00:00",
          "2022-06-14T00:00:00",
          "2022-06-21T00:00:00",
          "2022-06-28T00:00:00",
          "2022-07-05T00:00:00",
          "2022-07-12T00:00:00",
          "2022-07-19T00:00:00",
          "2022-07-26T00:00:00",
          "2022-08-02T00:00:00",
          "2022-08-09T00:00:00",
          "2022-08-16T00:00:00",
          "2022-08-23T00:00:00",
          "2022-08-30T00:00:00",
          "2022-09-06T00:00:00",
          "2022-09-13T00:00:00",
          "2022-09-20T00:00:00",
          "2022-09-27T00:00:00",
          "2022-10-04T00:00:00",
          "2022-10-11T00:00:00",
          "2022-10-18T00:00:00",
          "2022-10-25T00:00:00",
          "2022-11-01T00:00:00",
          "2022-11-08T00:00:00",
          "2022-11-15T00:00:00",
          "2022-11-22T00:00:00",
          "2022-11-29T00:00:00",
          "2022-12-06T00:00:00",
          "2022-12-13T00:00:00",
          "2022-12-20T00:00:00",
          "2022-12-27T00:00:00",
          "2023-01-03T00:00:00",
          "2023-01-10T00:00:00",
          "2023-01-17T00:00:00",
          "2023-01-24T00:00:00",
          "2023-01-31T00:00:00",
          "2023-02-07T00:00:00",
          "2023-02-14T00:00:00",
          "2023-02-21T00:00:00",
          "2023-02-28T00:00:00",
          "2023-03-07T00:00:00",
          "2023-03-14T00:00:00",
          "2023-03-21T00:00:00",
          "2023-03-28T00:00:00",
          "2023-04-04T00:00:00",
          "2023-04-11T00:00:00"
         ],
         "y": [
          44231,
          41997,
          41888,
          39730,
          40239,
          38436,
          27228,
          23852,
          22240,
          19906,
          22058,
          23894,
          27406,
          30791,
          24541,
          25045,
          24568,
          22638,
          22539,
          21925,
          23219,
          19831,
          24344,
          21642,
          20379,
          19733,
          22723,
          26948,
          24488,
          24268,
          23135,
          16198,
          14569,
          14665,
          18083,
          19373,
          18739,
          19698,
          20816,
          27704,
          28515,
          26826,
          25328,
          21696,
          20085,
          20560,
          20197,
          23405,
          28163,
          27295,
          29128,
          28950
         ]
        },
        {
         "mode": "lines",
         "name": "Short Positions",
         "type": "scatter",
         "x": [
          "2022-04-19T00:00:00",
          "2022-04-26T00:00:00",
          "2022-05-03T00:00:00",
          "2022-05-10T00:00:00",
          "2022-05-17T00:00:00",
          "2022-05-24T00:00:00",
          "2022-05-31T00:00:00",
          "2022-06-07T00:00:00",
          "2022-06-14T00:00:00",
          "2022-06-21T00:00:00",
          "2022-06-28T00:00:00",
          "2022-07-05T00:00:00",
          "2022-07-12T00:00:00",
          "2022-07-19T00:00:00",
          "2022-07-26T00:00:00",
          "2022-08-02T00:00:00",
          "2022-08-09T00:00:00",
          "2022-08-16T00:00:00",
          "2022-08-23T00:00:00",
          "2022-08-30T00:00:00",
          "2022-09-06T00:00:00",
          "2022-09-13T00:00:00",
          "2022-09-20T00:00:00",
          "2022-09-27T00:00:00",
          "2022-10-04T00:00:00",
          "2022-10-11T00:00:00",
          "2022-10-18T00:00:00",
          "2022-10-25T00:00:00",
          "2022-11-01T00:00:00",
          "2022-11-08T00:00:00",
          "2022-11-15T00:00:00",
          "2022-11-22T00:00:00",
          "2022-11-29T00:00:00",
          "2022-12-06T00:00:00",
          "2022-12-13T00:00:00",
          "2022-12-20T00:00:00",
          "2022-12-27T00:00:00",
          "2023-01-03T00:00:00",
          "2023-01-10T00:00:00",
          "2023-01-17T00:00:00",
          "2023-01-24T00:00:00",
          "2023-01-31T00:00:00",
          "2023-02-07T00:00:00",
          "2023-02-14T00:00:00",
          "2023-02-21T00:00:00",
          "2023-02-28T00:00:00",
          "2023-03-07T00:00:00",
          "2023-03-14T00:00:00",
          "2023-03-21T00:00:00",
          "2023-03-28T00:00:00",
          "2023-04-04T00:00:00",
          "2023-04-11T00:00:00"
         ],
         "y": [
          102165,
          91576,
          86848,
          86870,
          82933,
          87282,
          76461,
          71880,
          67835,
          67029,
          67649,
          64199,
          56481,
          56838,
          50173,
          56385,
          62496,
          59416,
          56677,
          53688,
          49653,
          47427,
          42330,
          34504,
          43193,
          43636,
          37514,
          35861,
          32752,
          44818,
          65715,
          59813,
          54651,
          56718,
          59579,
          59875,
          62993,
          65585,
          72344,
          74603,
          72575,
          69574,
          61150,
          55888,
          53508,
          53500,
          52487,
          66696,
          77874,
          80282,
          76377,
          75727
         ]
        }
       ],
       "layout": {
        "legend": {
         "title": {
          "text": "Positions"
         }
        },
        "template": {
         "data": {
          "bar": [
           {
            "error_x": {
             "color": "#2a3f5f"
            },
            "error_y": {
             "color": "#2a3f5f"
            },
            "marker": {
             "line": {
              "color": "#E5ECF6",
              "width": 0.5
             },
             "pattern": {
              "fillmode": "overlay",
              "size": 10,
              "solidity": 0.2
             }
            },
            "type": "bar"
           }
          ],
          "barpolar": [
           {
            "marker": {
             "line": {
              "color": "#E5ECF6",
              "width": 0.5
             },
             "pattern": {
              "fillmode": "overlay",
              "size": 10,
              "solidity": 0.2
             }
            },
            "type": "barpolar"
           }
          ],
          "carpet": [
           {
            "aaxis": {
             "endlinecolor": "#2a3f5f",
             "gridcolor": "white",
             "linecolor": "white",
             "minorgridcolor": "white",
             "startlinecolor": "#2a3f5f"
            },
            "baxis": {
             "endlinecolor": "#2a3f5f",
             "gridcolor": "white",
             "linecolor": "white",
             "minorgridcolor": "white",
             "startlinecolor": "#2a3f5f"
            },
            "type": "carpet"
           }
          ],
          "choropleth": [
           {
            "colorbar": {
             "outlinewidth": 0,
             "ticks": ""
            },
            "type": "choropleth"
           }
          ],
          "contour": [
           {
            "colorbar": {
             "outlinewidth": 0,
             "ticks": ""
            },
            "colorscale": [
             [
              0,
              "#0d0887"
             ],
             [
              0.1111111111111111,
              "#46039f"
             ],
             [
              0.2222222222222222,
              "#7201a8"
             ],
             [
              0.3333333333333333,
              "#9c179e"
             ],
             [
              0.4444444444444444,
              "#bd3786"
             ],
             [
              0.5555555555555556,
              "#d8576b"
             ],
             [
              0.6666666666666666,
              "#ed7953"
             ],
             [
              0.7777777777777778,
              "#fb9f3a"
             ],
             [
              0.8888888888888888,
              "#fdca26"
             ],
             [
              1,
              "#f0f921"
             ]
            ],
            "type": "contour"
           }
          ],
          "contourcarpet": [
           {
            "colorbar": {
             "outlinewidth": 0,
             "ticks": ""
            },
            "type": "contourcarpet"
           }
          ],
          "heatmap": [
           {
            "colorbar": {
             "outlinewidth": 0,
             "ticks": ""
            },
            "colorscale": [
             [
              0,
              "#0d0887"
             ],
             [
              0.1111111111111111,
              "#46039f"
             ],
             [
              0.2222222222222222,
              "#7201a8"
             ],
             [
              0.3333333333333333,
              "#9c179e"
             ],
             [
              0.4444444444444444,
              "#bd3786"
             ],
             [
              0.5555555555555556,
              "#d8576b"
             ],
             [
              0.6666666666666666,
              "#ed7953"
             ],
             [
              0.7777777777777778,
              "#fb9f3a"
             ],
             [
              0.8888888888888888,
              "#fdca26"
             ],
             [
              1,
              "#f0f921"
             ]
            ],
            "type": "heatmap"
           }
          ],
          "heatmapgl": [
           {
            "colorbar": {
             "outlinewidth": 0,
             "ticks": ""
            },
            "colorscale": [
             [
              0,
              "#0d0887"
             ],
             [
              0.1111111111111111,
              "#46039f"
             ],
             [
              0.2222222222222222,
              "#7201a8"
             ],
             [
              0.3333333333333333,
              "#9c179e"
             ],
             [
              0.4444444444444444,
              "#bd3786"
             ],
             [
              0.5555555555555556,
              "#d8576b"
             ],
             [
              0.6666666666666666,
              "#ed7953"
             ],
             [
              0.7777777777777778,
              "#fb9f3a"
             ],
             [
              0.8888888888888888,
              "#fdca26"
             ],
             [
              1,
              "#f0f921"
             ]
            ],
            "type": "heatmapgl"
           }
          ],
          "histogram": [
           {
            "marker": {
             "pattern": {
              "fillmode": "overlay",
              "size": 10,
              "solidity": 0.2
             }
            },
            "type": "histogram"
           }
          ],
          "histogram2d": [
           {
            "colorbar": {
             "outlinewidth": 0,
             "ticks": ""
            },
            "colorscale": [
             [
              0,
              "#0d0887"
             ],
             [
              0.1111111111111111,
              "#46039f"
             ],
             [
              0.2222222222222222,
              "#7201a8"
             ],
             [
              0.3333333333333333,
              "#9c179e"
             ],
             [
              0.4444444444444444,
              "#bd3786"
             ],
             [
              0.5555555555555556,
              "#d8576b"
             ],
             [
              0.6666666666666666,
              "#ed7953"
             ],
             [
              0.7777777777777778,
              "#fb9f3a"
             ],
             [
              0.8888888888888888,
              "#fdca26"
             ],
             [
              1,
              "#f0f921"
             ]
            ],
            "type": "histogram2d"
           }
          ],
          "histogram2dcontour": [
           {
            "colorbar": {
             "outlinewidth": 0,
             "ticks": ""
            },
            "colorscale": [
             [
              0,
              "#0d0887"
             ],
             [
              0.1111111111111111,
              "#46039f"
             ],
             [
              0.2222222222222222,
              "#7201a8"
             ],
             [
              0.3333333333333333,
              "#9c179e"
             ],
             [
              0.4444444444444444,
              "#bd3786"
             ],
             [
              0.5555555555555556,
              "#d8576b"
             ],
             [
              0.6666666666666666,
              "#ed7953"
             ],
             [
              0.7777777777777778,
              "#fb9f3a"
             ],
             [
              0.8888888888888888,
              "#fdca26"
             ],
             [
              1,
              "#f0f921"
             ]
            ],
            "type": "histogram2dcontour"
           }
          ],
          "mesh3d": [
           {
            "colorbar": {
             "outlinewidth": 0,
             "ticks": ""
            },
            "type": "mesh3d"
           }
          ],
          "parcoords": [
           {
            "line": {
             "colorbar": {
              "outlinewidth": 0,
              "ticks": ""
             }
            },
            "type": "parcoords"
           }
          ],
          "pie": [
           {
            "automargin": true,
            "type": "pie"
           }
          ],
          "scatter": [
           {
            "fillpattern": {
             "fillmode": "overlay",
             "size": 10,
             "solidity": 0.2
            },
            "type": "scatter"
           }
          ],
          "scatter3d": [
           {
            "line": {
             "colorbar": {
              "outlinewidth": 0,
              "ticks": ""
             }
            },
            "marker": {
             "colorbar": {
              "outlinewidth": 0,
              "ticks": ""
             }
            },
            "type": "scatter3d"
           }
          ],
          "scattercarpet": [
           {
            "marker": {
             "colorbar": {
              "outlinewidth": 0,
              "ticks": ""
             }
            },
            "type": "scattercarpet"
           }
          ],
          "scattergeo": [
           {
            "marker": {
             "colorbar": {
              "outlinewidth": 0,
              "ticks": ""
             }
            },
            "type": "scattergeo"
           }
          ],
          "scattergl": [
           {
            "marker": {
             "colorbar": {
              "outlinewidth": 0,
              "ticks": ""
             }
            },
            "type": "scattergl"
           }
          ],
          "scattermapbox": [
           {
            "marker": {
             "colorbar": {
              "outlinewidth": 0,
              "ticks": ""
             }
            },
            "type": "scattermapbox"
           }
          ],
          "scatterpolar": [
           {
            "marker": {
             "colorbar": {
              "outlinewidth": 0,
              "ticks": ""
             }
            },
            "type": "scatterpolar"
           }
          ],
          "scatterpolargl": [
           {
            "marker": {
             "colorbar": {
              "outlinewidth": 0,
              "ticks": ""
             }
            },
            "type": "scatterpolargl"
           }
          ],
          "scatterternary": [
           {
            "marker": {
             "colorbar": {
              "outlinewidth": 0,
              "ticks": ""
             }
            },
            "type": "scatterternary"
           }
          ],
          "surface": [
           {
            "colorbar": {
             "outlinewidth": 0,
             "ticks": ""
            },
            "colorscale": [
             [
              0,
              "#0d0887"
             ],
             [
              0.1111111111111111,
              "#46039f"
             ],
             [
              0.2222222222222222,
              "#7201a8"
             ],
             [
              0.3333333333333333,
              "#9c179e"
             ],
             [
              0.4444444444444444,
              "#bd3786"
             ],
             [
              0.5555555555555556,
              "#d8576b"
             ],
             [
              0.6666666666666666,
              "#ed7953"
             ],
             [
              0.7777777777777778,
              "#fb9f3a"
             ],
             [
              0.8888888888888888,
              "#fdca26"
             ],
             [
              1,
              "#f0f921"
             ]
            ],
            "type": "surface"
           }
          ],
          "table": [
           {
            "cells": {
             "fill": {
              "color": "#EBF0F8"
             },
             "line": {
              "color": "white"
             }
            },
            "header": {
             "fill": {
              "color": "#C8D4E3"
             },
             "line": {
              "color": "white"
             }
            },
            "type": "table"
           }
          ]
         },
         "layout": {
          "annotationdefaults": {
           "arrowcolor": "#2a3f5f",
           "arrowhead": 0,
           "arrowwidth": 1
          },
          "autotypenumbers": "strict",
          "coloraxis": {
           "colorbar": {
            "outlinewidth": 0,
            "ticks": ""
           }
          },
          "colorscale": {
           "diverging": [
            [
             0,
             "#8e0152"
            ],
            [
             0.1,
             "#c51b7d"
            ],
            [
             0.2,
             "#de77ae"
            ],
            [
             0.3,
             "#f1b6da"
            ],
            [
             0.4,
             "#fde0ef"
            ],
            [
             0.5,
             "#f7f7f7"
            ],
            [
             0.6,
             "#e6f5d0"
            ],
            [
             0.7,
             "#b8e186"
            ],
            [
             0.8,
             "#7fbc41"
            ],
            [
             0.9,
             "#4d9221"
            ],
            [
             1,
             "#276419"
            ]
           ],
           "sequential": [
            [
             0,
             "#0d0887"
            ],
            [
             0.1111111111111111,
             "#46039f"
            ],
            [
             0.2222222222222222,
             "#7201a8"
            ],
            [
             0.3333333333333333,
             "#9c179e"
            ],
            [
             0.4444444444444444,
             "#bd3786"
            ],
            [
             0.5555555555555556,
             "#d8576b"
            ],
            [
             0.6666666666666666,
             "#ed7953"
            ],
            [
             0.7777777777777778,
             "#fb9f3a"
            ],
            [
             0.8888888888888888,
             "#fdca26"
            ],
            [
             1,
             "#f0f921"
            ]
           ],
           "sequentialminus": [
            [
             0,
             "#0d0887"
            ],
            [
             0.1111111111111111,
             "#46039f"
            ],
            [
             0.2222222222222222,
             "#7201a8"
            ],
            [
             0.3333333333333333,
             "#9c179e"
            ],
            [
             0.4444444444444444,
             "#bd3786"
            ],
            [
             0.5555555555555556,
             "#d8576b"
            ],
            [
             0.6666666666666666,
             "#ed7953"
            ],
            [
             0.7777777777777778,
             "#fb9f3a"
            ],
            [
             0.8888888888888888,
             "#fdca26"
            ],
            [
             1,
             "#f0f921"
            ]
           ]
          },
          "colorway": [
           "#636efa",
           "#EF553B",
           "#00cc96",
           "#ab63fa",
           "#FFA15A",
           "#19d3f3",
           "#FF6692",
           "#B6E880",
           "#FF97FF",
           "#FECB52"
          ],
          "font": {
           "color": "#2a3f5f"
          },
          "geo": {
           "bgcolor": "white",
           "lakecolor": "white",
           "landcolor": "#E5ECF6",
           "showlakes": true,
           "showland": true,
           "subunitcolor": "white"
          },
          "hoverlabel": {
           "align": "left"
          },
          "hovermode": "closest",
          "mapbox": {
           "style": "light"
          },
          "paper_bgcolor": "white",
          "plot_bgcolor": "#E5ECF6",
          "polar": {
           "angularaxis": {
            "gridcolor": "white",
            "linecolor": "white",
            "ticks": ""
           },
           "bgcolor": "#E5ECF6",
           "radialaxis": {
            "gridcolor": "white",
            "linecolor": "white",
            "ticks": ""
           }
          },
          "scene": {
           "xaxis": {
            "backgroundcolor": "#E5ECF6",
            "gridcolor": "white",
            "gridwidth": 2,
            "linecolor": "white",
            "showbackground": true,
            "ticks": "",
            "zerolinecolor": "white"
           },
           "yaxis": {
            "backgroundcolor": "#E5ECF6",
            "gridcolor": "white",
            "gridwidth": 2,
            "linecolor": "white",
            "showbackground": true,
            "ticks": "",
            "zerolinecolor": "white"
           },
           "zaxis": {
            "backgroundcolor": "#E5ECF6",
            "gridcolor": "white",
            "gridwidth": 2,
            "linecolor": "white",
            "showbackground": true,
            "ticks": "",
            "zerolinecolor": "white"
           }
          },
          "shapedefaults": {
           "line": {
            "color": "#2a3f5f"
           }
          },
          "ternary": {
           "aaxis": {
            "gridcolor": "white",
            "linecolor": "white",
            "ticks": ""
           },
           "baxis": {
            "gridcolor": "white",
            "linecolor": "white",
            "ticks": ""
           },
           "bgcolor": "#E5ECF6",
           "caxis": {
            "gridcolor": "white",
            "linecolor": "white",
            "ticks": ""
           }
          },
          "title": {
           "x": 0.05
          },
          "xaxis": {
           "automargin": true,
           "gridcolor": "white",
           "linecolor": "white",
           "ticks": "",
           "title": {
            "standoff": 15
           },
           "zerolinecolor": "white",
           "zerolinewidth": 2
          },
          "yaxis": {
           "automargin": true,
           "gridcolor": "white",
           "linecolor": "white",
           "ticks": "",
           "title": {
            "standoff": 15
           },
           "zerolinecolor": "white",
           "zerolinewidth": 2
          }
         }
        },
        "title": {
         "text": "COT Report - Gold Futures"
        },
        "xaxis": {
         "title": {
          "text": "Date"
         }
        },
        "yaxis": {
         "title": {
          "text": "Positions"
         }
        }
       }
      }
     },
     "metadata": {},
     "output_type": "display_data"
    }
   ],
   "source": [
    "# データをプロット\n",
    "fig = go.Figure()\n",
    "\n",
    "fig.add_trace(go.Scatter(x=cot_data.index, y=cot_data['Open Interest'],\n",
    "                    mode='lines', name='Open Interest'))\n",
    "fig.add_trace(go.Scatter(x=cot_data.index, y=cot_data['Total Longs'],\n",
    "                    mode='lines', name='Long Positions'))\n",
    "fig.add_trace(go.Scatter(x=cot_data.index, y=cot_data['Total Shorts'],\n",
    "                    mode='lines', name='Short Positions'))\n",
    "\n",
    "fig.update_layout(title='COT Report - Gold Futures',\n",
    "                  xaxis_title='Date',\n",
    "                  yaxis_title='Positions',\n",
    "                  legend_title='Positions')\n",
    "\n",
    "fig.show()"
   ]
  }
 ],
 "metadata": {
  "kernelspec": {
   "display_name": "Python 3",
   "language": "python",
   "name": "python3"
  },
  "language_info": {
   "codemirror_mode": {
    "name": "ipython",
    "version": 3
   },
   "file_extension": ".py",
   "mimetype": "text/x-python",
   "name": "python",
   "nbconvert_exporter": "python",
   "pygments_lexer": "ipython3",
   "version": "3.9.9"
  },
  "orig_nbformat": 4
 },
 "nbformat": 4,
 "nbformat_minor": 2
}
