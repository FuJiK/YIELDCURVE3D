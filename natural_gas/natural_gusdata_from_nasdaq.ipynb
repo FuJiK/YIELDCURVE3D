{
 "cells": [
  {
   "cell_type": "code",
   "execution_count": 11,
   "metadata": {},
   "outputs": [],
   "source": [
    "import quandl\n",
    "import plotly.graph_objects as go\n",
    "from datetime import datetime, timedelta\n",
    "from credential.api_key import QUANDL_API_KEY\n"
   ]
  },
  {
   "cell_type": "code",
   "execution_count": 12,
   "metadata": {},
   "outputs": [],
   "source": [
    "# Quandl APIキーを設定\n",
    "quandl.ApiConfig.api_key = QUANDL_API_KEY # ここにAPIキーを入力\n",
    "\n"
   ]
  },
  {
   "cell_type": "code",
   "execution_count": 13,
   "metadata": {},
   "outputs": [],
   "source": [
    "# 過去一年分の日付を設定\n",
    "end_date = datetime.now()\n",
    "start_date = end_date - timedelta(days=365)\n",
    "\n"
   ]
  },
  {
   "cell_type": "code",
   "execution_count": 14,
   "metadata": {},
   "outputs": [],
   "source": [
    "# QuandlからCOTレポートの天然ガス先物情報を取得\n",
    "cot_data = quandl.get('CFTC/023651_FO_ALL', start_date=start_date, end_date=end_date)\n",
    "\n"
   ]
  },
  {
   "cell_type": "code",
   "execution_count": 16,
   "metadata": {},
   "outputs": [
    {
     "data": {
      "application/vnd.plotly.v1+json": {
       "config": {
        "plotlyServerURL": "https://plot.ly"
       },
       "data": [
        {
         "mode": "lines",
         "name": "Open Interest",
         "type": "scatter",
         "x": [
          "2022-04-26T00:00:00",
          "2022-05-03T00:00:00",
          "2022-05-10T00:00:00",
          "2022-05-17T00:00:00",
          "2022-05-24T00:00:00",
          "2022-05-31T00:00:00",
          "2022-06-07T00:00:00",
          "2022-06-14T00:00:00",
          "2022-06-21T00:00:00",
          "2022-06-28T00:00:00",
          "2022-07-05T00:00:00",
          "2022-07-12T00:00:00",
          "2022-07-19T00:00:00",
          "2022-07-26T00:00:00",
          "2022-08-02T00:00:00",
          "2022-08-09T00:00:00",
          "2022-08-16T00:00:00",
          "2022-08-23T00:00:00",
          "2022-08-30T00:00:00",
          "2022-09-06T00:00:00",
          "2022-09-13T00:00:00",
          "2022-09-20T00:00:00",
          "2022-09-27T00:00:00",
          "2022-10-04T00:00:00",
          "2022-10-11T00:00:00",
          "2022-10-18T00:00:00",
          "2022-10-25T00:00:00",
          "2022-11-01T00:00:00",
          "2022-11-08T00:00:00",
          "2022-11-15T00:00:00",
          "2022-11-22T00:00:00",
          "2022-11-29T00:00:00",
          "2022-12-06T00:00:00",
          "2022-12-13T00:00:00",
          "2022-12-20T00:00:00",
          "2022-12-27T00:00:00",
          "2023-01-03T00:00:00",
          "2023-01-10T00:00:00",
          "2023-01-17T00:00:00",
          "2023-01-24T00:00:00",
          "2023-01-31T00:00:00",
          "2023-02-07T00:00:00",
          "2023-02-14T00:00:00",
          "2023-02-21T00:00:00",
          "2023-02-28T00:00:00",
          "2023-03-07T00:00:00",
          "2023-03-14T00:00:00",
          "2023-03-21T00:00:00",
          "2023-03-28T00:00:00",
          "2023-04-04T00:00:00",
          "2023-04-11T00:00:00"
         ],
         "y": [
          1139008,
          1160560,
          1131332,
          1143534,
          1134404,
          1133470,
          1148557,
          1074117,
          1053139,
          1003010,
          994810,
          988029,
          974836,
          994089,
          1000634,
          986435,
          1005181,
          998893,
          991675,
          996851,
          989928,
          973452,
          951439,
          977249,
          985591,
          976736,
          986756,
          996904,
          994601,
          990244,
          996084,
          995125,
          1019726,
          1007579,
          1014751,
          1018135,
          1039237,
          1080538,
          1093482,
          1115830,
          1155726,
          1231429,
          1246601,
          1284691,
          1248543,
          1260435,
          1265518,
          1294204,
          1288837,
          1378590,
          1370166
         ]
        },
        {
         "mode": "lines",
         "name": "Long Positions",
         "type": "scatter",
         "x": [
          "2022-04-26T00:00:00",
          "2022-05-03T00:00:00",
          "2022-05-10T00:00:00",
          "2022-05-17T00:00:00",
          "2022-05-24T00:00:00",
          "2022-05-31T00:00:00",
          "2022-06-07T00:00:00",
          "2022-06-14T00:00:00",
          "2022-06-21T00:00:00",
          "2022-06-28T00:00:00",
          "2022-07-05T00:00:00",
          "2022-07-12T00:00:00",
          "2022-07-19T00:00:00",
          "2022-07-26T00:00:00",
          "2022-08-02T00:00:00",
          "2022-08-09T00:00:00",
          "2022-08-16T00:00:00",
          "2022-08-23T00:00:00",
          "2022-08-30T00:00:00",
          "2022-09-06T00:00:00",
          "2022-09-13T00:00:00",
          "2022-09-20T00:00:00",
          "2022-09-27T00:00:00",
          "2022-10-04T00:00:00",
          "2022-10-11T00:00:00",
          "2022-10-18T00:00:00",
          "2022-10-25T00:00:00",
          "2022-11-01T00:00:00",
          "2022-11-08T00:00:00",
          "2022-11-15T00:00:00",
          "2022-11-22T00:00:00",
          "2022-11-29T00:00:00",
          "2022-12-06T00:00:00",
          "2022-12-13T00:00:00",
          "2022-12-20T00:00:00",
          "2022-12-27T00:00:00",
          "2023-01-03T00:00:00",
          "2023-01-10T00:00:00",
          "2023-01-17T00:00:00",
          "2023-01-24T00:00:00",
          "2023-01-31T00:00:00",
          "2023-02-07T00:00:00",
          "2023-02-14T00:00:00",
          "2023-02-21T00:00:00",
          "2023-02-28T00:00:00",
          "2023-03-07T00:00:00",
          "2023-03-14T00:00:00",
          "2023-03-21T00:00:00",
          "2023-03-28T00:00:00",
          "2023-04-04T00:00:00",
          "2023-04-11T00:00:00"
         ],
         "y": [
          1063560,
          1085860,
          1056287,
          1066228,
          1058153,
          1056042,
          1070031,
          997369,
          978512,
          938355,
          926095,
          919759,
          909232,
          926568,
          931987,
          916808,
          935070,
          930271,
          923978,
          928082,
          920631,
          905122,
          888507,
          910043,
          917521,
          908917,
          928231,
          936027,
          924850,
          924161,
          929529,
          930356,
          950456,
          940477,
          945651,
          950762,
          970305,
          1009796,
          1021064,
          1043634,
          1074709,
          1145037,
          1160144,
          1200551,
          1171896,
          1182560,
          1188523,
          1215485,
          1211215,
          1301176,
          1289534
         ]
        },
        {
         "mode": "lines",
         "name": "Short Positions",
         "type": "scatter",
         "x": [
          "2022-04-26T00:00:00",
          "2022-05-03T00:00:00",
          "2022-05-10T00:00:00",
          "2022-05-17T00:00:00",
          "2022-05-24T00:00:00",
          "2022-05-31T00:00:00",
          "2022-06-07T00:00:00",
          "2022-06-14T00:00:00",
          "2022-06-21T00:00:00",
          "2022-06-28T00:00:00",
          "2022-07-05T00:00:00",
          "2022-07-12T00:00:00",
          "2022-07-19T00:00:00",
          "2022-07-26T00:00:00",
          "2022-08-02T00:00:00",
          "2022-08-09T00:00:00",
          "2022-08-16T00:00:00",
          "2022-08-23T00:00:00",
          "2022-08-30T00:00:00",
          "2022-09-06T00:00:00",
          "2022-09-13T00:00:00",
          "2022-09-20T00:00:00",
          "2022-09-27T00:00:00",
          "2022-10-04T00:00:00",
          "2022-10-11T00:00:00",
          "2022-10-18T00:00:00",
          "2022-10-25T00:00:00",
          "2022-11-01T00:00:00",
          "2022-11-08T00:00:00",
          "2022-11-15T00:00:00",
          "2022-11-22T00:00:00",
          "2022-11-29T00:00:00",
          "2022-12-06T00:00:00",
          "2022-12-13T00:00:00",
          "2022-12-20T00:00:00",
          "2022-12-27T00:00:00",
          "2023-01-03T00:00:00",
          "2023-01-10T00:00:00",
          "2023-01-17T00:00:00",
          "2023-01-24T00:00:00",
          "2023-01-31T00:00:00",
          "2023-02-07T00:00:00",
          "2023-02-14T00:00:00",
          "2023-02-21T00:00:00",
          "2023-02-28T00:00:00",
          "2023-03-07T00:00:00",
          "2023-03-14T00:00:00",
          "2023-03-21T00:00:00",
          "2023-03-28T00:00:00",
          "2023-04-04T00:00:00",
          "2023-04-11T00:00:00"
         ],
         "y": [
          1109775,
          1130605,
          1104995,
          1116991,
          1105682,
          1106739,
          1117858,
          1047230,
          1024174,
          977726,
          965646,
          957935,
          943623,
          962124,
          969803,
          955987,
          973326,
          967809,
          960506,
          961436,
          956111,
          939904,
          920063,
          943985,
          950225,
          937925,
          947480,
          957941,
          957690,
          956355,
          957257,
          957839,
          980040,
          964537,
          971770,
          979207,
          999614,
          1040885,
          1054112,
          1078579,
          1112136,
          1186060,
          1199224,
          1240174,
          1203124,
          1212556,
          1219269,
          1247692,
          1243189,
          1332296,
          1320630
         ]
        }
       ],
       "layout": {
        "legend": {
         "title": {
          "text": "Positions"
         }
        },
        "template": {
         "data": {
          "bar": [
           {
            "error_x": {
             "color": "#2a3f5f"
            },
            "error_y": {
             "color": "#2a3f5f"
            },
            "marker": {
             "line": {
              "color": "#E5ECF6",
              "width": 0.5
             },
             "pattern": {
              "fillmode": "overlay",
              "size": 10,
              "solidity": 0.2
             }
            },
            "type": "bar"
           }
          ],
          "barpolar": [
           {
            "marker": {
             "line": {
              "color": "#E5ECF6",
              "width": 0.5
             },
             "pattern": {
              "fillmode": "overlay",
              "size": 10,
              "solidity": 0.2
             }
            },
            "type": "barpolar"
           }
          ],
          "carpet": [
           {
            "aaxis": {
             "endlinecolor": "#2a3f5f",
             "gridcolor": "white",
             "linecolor": "white",
             "minorgridcolor": "white",
             "startlinecolor": "#2a3f5f"
            },
            "baxis": {
             "endlinecolor": "#2a3f5f",
             "gridcolor": "white",
             "linecolor": "white",
             "minorgridcolor": "white",
             "startlinecolor": "#2a3f5f"
            },
            "type": "carpet"
           }
          ],
          "choropleth": [
           {
            "colorbar": {
             "outlinewidth": 0,
             "ticks": ""
            },
            "type": "choropleth"
           }
          ],
          "contour": [
           {
            "colorbar": {
             "outlinewidth": 0,
             "ticks": ""
            },
            "colorscale": [
             [
              0,
              "#0d0887"
             ],
             [
              0.1111111111111111,
              "#46039f"
             ],
             [
              0.2222222222222222,
              "#7201a8"
             ],
             [
              0.3333333333333333,
              "#9c179e"
             ],
             [
              0.4444444444444444,
              "#bd3786"
             ],
             [
              0.5555555555555556,
              "#d8576b"
             ],
             [
              0.6666666666666666,
              "#ed7953"
             ],
             [
              0.7777777777777778,
              "#fb9f3a"
             ],
             [
              0.8888888888888888,
              "#fdca26"
             ],
             [
              1,
              "#f0f921"
             ]
            ],
            "type": "contour"
           }
          ],
          "contourcarpet": [
           {
            "colorbar": {
             "outlinewidth": 0,
             "ticks": ""
            },
            "type": "contourcarpet"
           }
          ],
          "heatmap": [
           {
            "colorbar": {
             "outlinewidth": 0,
             "ticks": ""
            },
            "colorscale": [
             [
              0,
              "#0d0887"
             ],
             [
              0.1111111111111111,
              "#46039f"
             ],
             [
              0.2222222222222222,
              "#7201a8"
             ],
             [
              0.3333333333333333,
              "#9c179e"
             ],
             [
              0.4444444444444444,
              "#bd3786"
             ],
             [
              0.5555555555555556,
              "#d8576b"
             ],
             [
              0.6666666666666666,
              "#ed7953"
             ],
             [
              0.7777777777777778,
              "#fb9f3a"
             ],
             [
              0.8888888888888888,
              "#fdca26"
             ],
             [
              1,
              "#f0f921"
             ]
            ],
            "type": "heatmap"
           }
          ],
          "heatmapgl": [
           {
            "colorbar": {
             "outlinewidth": 0,
             "ticks": ""
            },
            "colorscale": [
             [
              0,
              "#0d0887"
             ],
             [
              0.1111111111111111,
              "#46039f"
             ],
             [
              0.2222222222222222,
              "#7201a8"
             ],
             [
              0.3333333333333333,
              "#9c179e"
             ],
             [
              0.4444444444444444,
              "#bd3786"
             ],
             [
              0.5555555555555556,
              "#d8576b"
             ],
             [
              0.6666666666666666,
              "#ed7953"
             ],
             [
              0.7777777777777778,
              "#fb9f3a"
             ],
             [
              0.8888888888888888,
              "#fdca26"
             ],
             [
              1,
              "#f0f921"
             ]
            ],
            "type": "heatmapgl"
           }
          ],
          "histogram": [
           {
            "marker": {
             "pattern": {
              "fillmode": "overlay",
              "size": 10,
              "solidity": 0.2
             }
            },
            "type": "histogram"
           }
          ],
          "histogram2d": [
           {
            "colorbar": {
             "outlinewidth": 0,
             "ticks": ""
            },
            "colorscale": [
             [
              0,
              "#0d0887"
             ],
             [
              0.1111111111111111,
              "#46039f"
             ],
             [
              0.2222222222222222,
              "#7201a8"
             ],
             [
              0.3333333333333333,
              "#9c179e"
             ],
             [
              0.4444444444444444,
              "#bd3786"
             ],
             [
              0.5555555555555556,
              "#d8576b"
             ],
             [
              0.6666666666666666,
              "#ed7953"
             ],
             [
              0.7777777777777778,
              "#fb9f3a"
             ],
             [
              0.8888888888888888,
              "#fdca26"
             ],
             [
              1,
              "#f0f921"
             ]
            ],
            "type": "histogram2d"
           }
          ],
          "histogram2dcontour": [
           {
            "colorbar": {
             "outlinewidth": 0,
             "ticks": ""
            },
            "colorscale": [
             [
              0,
              "#0d0887"
             ],
             [
              0.1111111111111111,
              "#46039f"
             ],
             [
              0.2222222222222222,
              "#7201a8"
             ],
             [
              0.3333333333333333,
              "#9c179e"
             ],
             [
              0.4444444444444444,
              "#bd3786"
             ],
             [
              0.5555555555555556,
              "#d8576b"
             ],
             [
              0.6666666666666666,
              "#ed7953"
             ],
             [
              0.7777777777777778,
              "#fb9f3a"
             ],
             [
              0.8888888888888888,
              "#fdca26"
             ],
             [
              1,
              "#f0f921"
             ]
            ],
            "type": "histogram2dcontour"
           }
          ],
          "mesh3d": [
           {
            "colorbar": {
             "outlinewidth": 0,
             "ticks": ""
            },
            "type": "mesh3d"
           }
          ],
          "parcoords": [
           {
            "line": {
             "colorbar": {
              "outlinewidth": 0,
              "ticks": ""
             }
            },
            "type": "parcoords"
           }
          ],
          "pie": [
           {
            "automargin": true,
            "type": "pie"
           }
          ],
          "scatter": [
           {
            "fillpattern": {
             "fillmode": "overlay",
             "size": 10,
             "solidity": 0.2
            },
            "type": "scatter"
           }
          ],
          "scatter3d": [
           {
            "line": {
             "colorbar": {
              "outlinewidth": 0,
              "ticks": ""
             }
            },
            "marker": {
             "colorbar": {
              "outlinewidth": 0,
              "ticks": ""
             }
            },
            "type": "scatter3d"
           }
          ],
          "scattercarpet": [
           {
            "marker": {
             "colorbar": {
              "outlinewidth": 0,
              "ticks": ""
             }
            },
            "type": "scattercarpet"
           }
          ],
          "scattergeo": [
           {
            "marker": {
             "colorbar": {
              "outlinewidth": 0,
              "ticks": ""
             }
            },
            "type": "scattergeo"
           }
          ],
          "scattergl": [
           {
            "marker": {
             "colorbar": {
              "outlinewidth": 0,
              "ticks": ""
             }
            },
            "type": "scattergl"
           }
          ],
          "scattermapbox": [
           {
            "marker": {
             "colorbar": {
              "outlinewidth": 0,
              "ticks": ""
             }
            },
            "type": "scattermapbox"
           }
          ],
          "scatterpolar": [
           {
            "marker": {
             "colorbar": {
              "outlinewidth": 0,
              "ticks": ""
             }
            },
            "type": "scatterpolar"
           }
          ],
          "scatterpolargl": [
           {
            "marker": {
             "colorbar": {
              "outlinewidth": 0,
              "ticks": ""
             }
            },
            "type": "scatterpolargl"
           }
          ],
          "scatterternary": [
           {
            "marker": {
             "colorbar": {
              "outlinewidth": 0,
              "ticks": ""
             }
            },
            "type": "scatterternary"
           }
          ],
          "surface": [
           {
            "colorbar": {
             "outlinewidth": 0,
             "ticks": ""
            },
            "colorscale": [
             [
              0,
              "#0d0887"
             ],
             [
              0.1111111111111111,
              "#46039f"
             ],
             [
              0.2222222222222222,
              "#7201a8"
             ],
             [
              0.3333333333333333,
              "#9c179e"
             ],
             [
              0.4444444444444444,
              "#bd3786"
             ],
             [
              0.5555555555555556,
              "#d8576b"
             ],
             [
              0.6666666666666666,
              "#ed7953"
             ],
             [
              0.7777777777777778,
              "#fb9f3a"
             ],
             [
              0.8888888888888888,
              "#fdca26"
             ],
             [
              1,
              "#f0f921"
             ]
            ],
            "type": "surface"
           }
          ],
          "table": [
           {
            "cells": {
             "fill": {
              "color": "#EBF0F8"
             },
             "line": {
              "color": "white"
             }
            },
            "header": {
             "fill": {
              "color": "#C8D4E3"
             },
             "line": {
              "color": "white"
             }
            },
            "type": "table"
           }
          ]
         },
         "layout": {
          "annotationdefaults": {
           "arrowcolor": "#2a3f5f",
           "arrowhead": 0,
           "arrowwidth": 1
          },
          "autotypenumbers": "strict",
          "coloraxis": {
           "colorbar": {
            "outlinewidth": 0,
            "ticks": ""
           }
          },
          "colorscale": {
           "diverging": [
            [
             0,
             "#8e0152"
            ],
            [
             0.1,
             "#c51b7d"
            ],
            [
             0.2,
             "#de77ae"
            ],
            [
             0.3,
             "#f1b6da"
            ],
            [
             0.4,
             "#fde0ef"
            ],
            [
             0.5,
             "#f7f7f7"
            ],
            [
             0.6,
             "#e6f5d0"
            ],
            [
             0.7,
             "#b8e186"
            ],
            [
             0.8,
             "#7fbc41"
            ],
            [
             0.9,
             "#4d9221"
            ],
            [
             1,
             "#276419"
            ]
           ],
           "sequential": [
            [
             0,
             "#0d0887"
            ],
            [
             0.1111111111111111,
             "#46039f"
            ],
            [
             0.2222222222222222,
             "#7201a8"
            ],
            [
             0.3333333333333333,
             "#9c179e"
            ],
            [
             0.4444444444444444,
             "#bd3786"
            ],
            [
             0.5555555555555556,
             "#d8576b"
            ],
            [
             0.6666666666666666,
             "#ed7953"
            ],
            [
             0.7777777777777778,
             "#fb9f3a"
            ],
            [
             0.8888888888888888,
             "#fdca26"
            ],
            [
             1,
             "#f0f921"
            ]
           ],
           "sequentialminus": [
            [
             0,
             "#0d0887"
            ],
            [
             0.1111111111111111,
             "#46039f"
            ],
            [
             0.2222222222222222,
             "#7201a8"
            ],
            [
             0.3333333333333333,
             "#9c179e"
            ],
            [
             0.4444444444444444,
             "#bd3786"
            ],
            [
             0.5555555555555556,
             "#d8576b"
            ],
            [
             0.6666666666666666,
             "#ed7953"
            ],
            [
             0.7777777777777778,
             "#fb9f3a"
            ],
            [
             0.8888888888888888,
             "#fdca26"
            ],
            [
             1,
             "#f0f921"
            ]
           ]
          },
          "colorway": [
           "#636efa",
           "#EF553B",
           "#00cc96",
           "#ab63fa",
           "#FFA15A",
           "#19d3f3",
           "#FF6692",
           "#B6E880",
           "#FF97FF",
           "#FECB52"
          ],
          "font": {
           "color": "#2a3f5f"
          },
          "geo": {
           "bgcolor": "white",
           "lakecolor": "white",
           "landcolor": "#E5ECF6",
           "showlakes": true,
           "showland": true,
           "subunitcolor": "white"
          },
          "hoverlabel": {
           "align": "left"
          },
          "hovermode": "closest",
          "mapbox": {
           "style": "light"
          },
          "paper_bgcolor": "white",
          "plot_bgcolor": "#E5ECF6",
          "polar": {
           "angularaxis": {
            "gridcolor": "white",
            "linecolor": "white",
            "ticks": ""
           },
           "bgcolor": "#E5ECF6",
           "radialaxis": {
            "gridcolor": "white",
            "linecolor": "white",
            "ticks": ""
           }
          },
          "scene": {
           "xaxis": {
            "backgroundcolor": "#E5ECF6",
            "gridcolor": "white",
            "gridwidth": 2,
            "linecolor": "white",
            "showbackground": true,
            "ticks": "",
            "zerolinecolor": "white"
           },
           "yaxis": {
            "backgroundcolor": "#E5ECF6",
            "gridcolor": "white",
            "gridwidth": 2,
            "linecolor": "white",
            "showbackground": true,
            "ticks": "",
            "zerolinecolor": "white"
           },
           "zaxis": {
            "backgroundcolor": "#E5ECF6",
            "gridcolor": "white",
            "gridwidth": 2,
            "linecolor": "white",
            "showbackground": true,
            "ticks": "",
            "zerolinecolor": "white"
           }
          },
          "shapedefaults": {
           "line": {
            "color": "#2a3f5f"
           }
          },
          "ternary": {
           "aaxis": {
            "gridcolor": "white",
            "linecolor": "white",
            "ticks": ""
           },
           "baxis": {
            "gridcolor": "white",
            "linecolor": "white",
            "ticks": ""
           },
           "bgcolor": "#E5ECF6",
           "caxis": {
            "gridcolor": "white",
            "linecolor": "white",
            "ticks": ""
           }
          },
          "title": {
           "x": 0.05
          },
          "xaxis": {
           "automargin": true,
           "gridcolor": "white",
           "linecolor": "white",
           "ticks": "",
           "title": {
            "standoff": 15
           },
           "zerolinecolor": "white",
           "zerolinewidth": 2
          },
          "yaxis": {
           "automargin": true,
           "gridcolor": "white",
           "linecolor": "white",
           "ticks": "",
           "title": {
            "standoff": 15
           },
           "zerolinecolor": "white",
           "zerolinewidth": 2
          }
         }
        },
        "title": {
         "text": "COT Report - Natural Gas Futures"
        },
        "xaxis": {
         "title": {
          "text": "Date"
         }
        },
        "yaxis": {
         "title": {
          "text": "Positions"
         }
        }
       }
      }
     },
     "metadata": {},
     "output_type": "display_data"
    }
   ],
   "source": [
    "# データをプロット\n",
    "fig = go.Figure()\n",
    "\n",
    "fig.add_trace(go.Scatter(x=cot_data.index, y=cot_data['Open Interest'],\n",
    "                    mode='lines', name='Open Interest'))\n",
    "fig.add_trace(go.Scatter(x=cot_data.index, y=cot_data['Total Reportable Longs'],\n",
    "                    mode='lines', name='Long Positions'))\n",
    "fig.add_trace(go.Scatter(x=cot_data.index, y=cot_data['Total Reportable Shorts'],\n",
    "                    mode='lines', name='Short Positions'))\n",
    "\n",
    "fig.update_layout(title='COT Report - Natural Gas Futures',\n",
    "                  xaxis_title='Date',\n",
    "                  yaxis_title='Positions',\n",
    "                  legend_title='Positions')\n",
    "\n",
    "fig.show()\n"
   ]
  }
 ],
 "metadata": {
  "kernelspec": {
   "display_name": "Python 3",
   "language": "python",
   "name": "python3"
  },
  "language_info": {
   "codemirror_mode": {
    "name": "ipython",
    "version": 3
   },
   "file_extension": ".py",
   "mimetype": "text/x-python",
   "name": "python",
   "nbconvert_exporter": "python",
   "pygments_lexer": "ipython3",
   "version": "3.9.9"
  },
  "orig_nbformat": 4
 },
 "nbformat": 4,
 "nbformat_minor": 2
}
