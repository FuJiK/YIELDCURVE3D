{
 "cells": [
  {
   "cell_type": "markdown",
   "metadata": {},
   "source": [
    "https://python-tradingview-ta.readthedocs.io/en/latest/usage.html"
   ]
  },
  {
   "cell_type": "code",
   "execution_count": 1,
   "metadata": {},
   "outputs": [
    {
     "name": "stdout",
     "output_type": "stream",
     "text": [
      "{'RECOMMENDATION': 'BUY', 'BUY': 12, 'SELL': 6, 'NEUTRAL': 8}\n"
     ]
    }
   ],
   "source": [
    "from tradingview_ta import TA_Handler, Interval, Exchange\n",
    "\n",
    "tesla = TA_Handler(\n",
    "    symbol=\"TSLA\",\n",
    "    screener=\"america\",\n",
    "    exchange=\"NASDAQ\",\n",
    "    interval=Interval.INTERVAL_1_DAY\n",
    ")\n",
    "print(tesla.get_analysis().summary)"
   ]
  },
  {
   "cell_type": "code",
   "execution_count": 2,
   "metadata": {},
   "outputs": [],
   "source": [
    "from tradingview_ta import TA_Handler, Interval, Exchange\n",
    "import tradingview_ta"
   ]
  },
  {
   "cell_type": "code",
   "execution_count": 3,
   "metadata": {},
   "outputs": [
    {
     "name": "stdout",
     "output_type": "stream",
     "text": [
      "3.3.0\n"
     ]
    }
   ],
   "source": [
    "print(tradingview_ta.__version__)\n",
    "# Example output: 3.1.3"
   ]
  },
  {
   "cell_type": "code",
   "execution_count": 4,
   "metadata": {},
   "outputs": [],
   "source": [
    "handler = TA_Handler(\n",
    "    symbol=\"\",\n",
    "    exchange=\"\",\n",
    "    screener=\"\",\n",
    "    interval=\"\",\n",
    "    timeout=None\n",
    ")"
   ]
  },
  {
   "cell_type": "code",
   "execution_count": 7,
   "metadata": {},
   "outputs": [
    {
     "name": "stdout",
     "output_type": "stream",
     "text": [
      "AAPL Analysis: {'RECOMMENDATION': 'BUY', 'BUY': 15, 'SELL': 5, 'NEUTRAL': 6}\n",
      "AAPL Indicators: {'Recommend.Other': -0.18181818, 'Recommend.All': 0.30909091, 'Recommend.MA': 0.8, 'RSI': 70.96533673, 'RSI[1]': 71.02562879, 'Stoch.K': 94.16647442, 'Stoch.D': 94.39057548, 'Stoch.K[1]': 95.00701853, 'Stoch.D[1]': 94.97703965, 'CCI20': 111.93361309, 'CCI20[1]': 130.27215329, 'ADX': 25.27430136, 'ADX+DI': 36.53724791, 'ADX-DI': 15.18359677, 'ADX+DI[1]': 38.17419408, 'ADX-DI[1]': 15.66583367, 'AO': 10.49396324, 'AO[1]': 10.10434559, 'Mom': 13.04, 'Mom[1]': 12.14, 'MACD.macd': 3.6281592, 'MACD.signal': 2.1859677, 'Rec.Stoch.RSI': 0, 'Stoch.RSI.K': 99.87328143, 'Rec.WR': -1, 'W.R': -5.50737207, 'Rec.BBPower': 0, 'BBPower': 11.22347072, 'Rec.UO': 0, 'UO': 64.34657252, 'close': 189.69, 'EMA5': 187.95650526, 'SMA5': 187.93, 'EMA10': 185.20135698, 'SMA10': 185.24, 'EMA20': 181.72465732, 'SMA20': 178.715, 'EMA30': 180.18105959, 'SMA30': 178.36966667, 'EMA50': 179.27134274, 'SMA50': 176.9108, 'EMA100': 178.12166963, 'SMA100': 181.60065, 'EMA200': 173.2025236, 'SMA200': 173.5818, 'Rec.Ichimoku': 0, 'Ichimoku.BLine': 178.315, 'Rec.VWMA': 1, 'VWMA': 178.60002634, 'Rec.HullMA9': -1, 'HullMA9': 190.35796296, 'Pivot.M.Classic.S3': 139.58666667, 'Pivot.M.Classic.S2': 156.25666667, 'Pivot.M.Classic.S1': 163.51333333, 'Pivot.M.Classic.Middle': 172.92666667, 'Pivot.M.Classic.R1': 180.18333333, 'Pivot.M.Classic.R2': 189.59666667, 'Pivot.M.Classic.R3': 206.26666667, 'Pivot.M.Fibonacci.S3': 156.25666667, 'Pivot.M.Fibonacci.S2': 162.62460667, 'Pivot.M.Fibonacci.S1': 166.55872667, 'Pivot.M.Fibonacci.Middle': 172.92666667, 'Pivot.M.Fibonacci.R1': 179.29460667, 'Pivot.M.Fibonacci.R2': 183.22872667, 'Pivot.M.Fibonacci.R3': 189.59666667, 'Pivot.M.Camarilla.S3': 166.18575, 'Pivot.M.Camarilla.S2': 167.71383333, 'Pivot.M.Camarilla.S1': 169.24191667, 'Pivot.M.Camarilla.Middle': 172.92666667, 'Pivot.M.Camarilla.R1': 172.29808333, 'Pivot.M.Camarilla.R2': 173.82616667, 'Pivot.M.Camarilla.R3': 175.35425, 'Pivot.M.Woodie.S3': 145.995, 'Pivot.M.Woodie.S2': 155.8325, 'Pivot.M.Woodie.S1': 162.665, 'Pivot.M.Woodie.Middle': 172.5025, 'Pivot.M.Woodie.R1': 179.335, 'Pivot.M.Woodie.R2': 189.1725, 'Pivot.M.Woodie.R3': 196.005, 'Pivot.M.Demark.S1': 159.885, 'Pivot.M.Demark.Middle': 171.1125, 'Pivot.M.Demark.R1': 176.555, 'open': 190.25, 'P.SAR': 180.48167306, 'BB.lower': 164.07543512, 'BB.upper': 193.35456488, 'AO[2]': 9.26868382, 'volume': 50941216, 'change': -0.01054241, 'low': 188.57, 'high': 190.38}\n",
      "AAPL Analysis: {'RECOMMENDATION': 'BUY', 'BUY': 15, 'SELL': 5, 'NEUTRAL': 6}\n",
      "AAPL Indicators: {'Recommend.Other': -0.18181818, 'Recommend.All': 0.30909091, 'Recommend.MA': 0.8, 'RSI': 70.96533673, 'RSI[1]': 71.02562879, 'Stoch.K': 94.16647442, 'Stoch.D': 94.39057548, 'Stoch.K[1]': 95.00701853, 'Stoch.D[1]': 94.97703965, 'CCI20': 111.93361309, 'CCI20[1]': 130.27215329, 'ADX': 25.27430136, 'ADX+DI': 36.53724791, 'ADX-DI': 15.18359677, 'ADX+DI[1]': 38.17419408, 'ADX-DI[1]': 15.66583367, 'AO': 10.49396324, 'AO[1]': 10.10434559, 'Mom': 13.04, 'Mom[1]': 12.14, 'MACD.macd': 3.6281592, 'MACD.signal': 2.1859677, 'Rec.Stoch.RSI': 0, 'Stoch.RSI.K': 99.87328143, 'Rec.WR': -1, 'W.R': -5.50737207, 'Rec.BBPower': 0, 'BBPower': 11.22347072, 'Rec.UO': 0, 'UO': 64.34657252, 'close': 189.69, 'EMA5': 187.95650526, 'SMA5': 187.93, 'EMA10': 185.20135698, 'SMA10': 185.24, 'EMA20': 181.72465732, 'SMA20': 178.715, 'EMA30': 180.18105959, 'SMA30': 178.36966667, 'EMA50': 179.27134274, 'SMA50': 176.9108, 'EMA100': 178.12166963, 'SMA100': 181.60065, 'EMA200': 173.2025236, 'SMA200': 173.5818, 'Rec.Ichimoku': 0, 'Ichimoku.BLine': 178.315, 'Rec.VWMA': 1, 'VWMA': 178.60002634, 'Rec.HullMA9': -1, 'HullMA9': 190.35796296, 'Pivot.M.Classic.S3': 139.58666667, 'Pivot.M.Classic.S2': 156.25666667, 'Pivot.M.Classic.S1': 163.51333333, 'Pivot.M.Classic.Middle': 172.92666667, 'Pivot.M.Classic.R1': 180.18333333, 'Pivot.M.Classic.R2': 189.59666667, 'Pivot.M.Classic.R3': 206.26666667, 'Pivot.M.Fibonacci.S3': 156.25666667, 'Pivot.M.Fibonacci.S2': 162.62460667, 'Pivot.M.Fibonacci.S1': 166.55872667, 'Pivot.M.Fibonacci.Middle': 172.92666667, 'Pivot.M.Fibonacci.R1': 179.29460667, 'Pivot.M.Fibonacci.R2': 183.22872667, 'Pivot.M.Fibonacci.R3': 189.59666667, 'Pivot.M.Camarilla.S3': 166.18575, 'Pivot.M.Camarilla.S2': 167.71383333, 'Pivot.M.Camarilla.S1': 169.24191667, 'Pivot.M.Camarilla.Middle': 172.92666667, 'Pivot.M.Camarilla.R1': 172.29808333, 'Pivot.M.Camarilla.R2': 173.82616667, 'Pivot.M.Camarilla.R3': 175.35425, 'Pivot.M.Woodie.S3': 145.995, 'Pivot.M.Woodie.S2': 155.8325, 'Pivot.M.Woodie.S1': 162.665, 'Pivot.M.Woodie.Middle': 172.5025, 'Pivot.M.Woodie.R1': 179.335, 'Pivot.M.Woodie.R2': 189.1725, 'Pivot.M.Woodie.R3': 196.005, 'Pivot.M.Demark.S1': 159.885, 'Pivot.M.Demark.Middle': 171.1125, 'Pivot.M.Demark.R1': 176.555, 'open': 190.25, 'P.SAR': 180.48167306, 'BB.lower': 164.07543512, 'BB.upper': 193.35456488, 'AO[2]': 9.26868382, 'volume': 50941216, 'change': -0.01054241, 'low': 188.57, 'high': 190.38}\n"
     ]
    },
    {
     "ename": "KeyboardInterrupt",
     "evalue": "",
     "output_type": "error",
     "traceback": [
      "\u001b[0;31m---------------------------------------------------------------------------\u001b[0m",
      "\u001b[0;31mKeyboardInterrupt\u001b[0m                         Traceback (most recent call last)",
      "\u001b[1;32m/Users/fujiokaken/Docs/Github/YIELDCURVE3D/tradingview/test/test.ipynb セル 6\u001b[0m line \u001b[0;36m2\n\u001b[1;32m     <a href='vscode-notebook-cell:/Users/fujiokaken/Docs/Github/YIELDCURVE3D/tradingview/test/test.ipynb#W6sZmlsZQ%3D%3D?line=20'>21</a>\u001b[0m \u001b[39mwhile\u001b[39;00m \u001b[39mTrue\u001b[39;00m:\n\u001b[1;32m     <a href='vscode-notebook-cell:/Users/fujiokaken/Docs/Github/YIELDCURVE3D/tradingview/test/test.ipynb#W6sZmlsZQ%3D%3D?line=21'>22</a>\u001b[0m     get_aapl_data()\n\u001b[0;32m---> <a href='vscode-notebook-cell:/Users/fujiokaken/Docs/Github/YIELDCURVE3D/tradingview/test/test.ipynb#W6sZmlsZQ%3D%3D?line=22'>23</a>\u001b[0m     time\u001b[39m.\u001b[39;49msleep(\u001b[39m10\u001b[39;49m)  \u001b[39m# 1時間ごとにデータを取得\u001b[39;00m\n",
      "\u001b[0;31mKeyboardInterrupt\u001b[0m: "
     ]
    }
   ],
   "source": [
    "from tradingview_ta import TA_Handler, Interval, Exchange\n",
    "import time\n",
    "\n",
    "# AAPLのデータを取得する関数\n",
    "def get_aapl_data():\n",
    "    handler = TA_Handler(\n",
    "        symbol=\"AAPL\",\n",
    "        screener=\"america\",\n",
    "        exchange=\"NASDAQ\",\n",
    "        interval=Interval.INTERVAL_1_DAY\n",
    "    )\n",
    "\n",
    "    try:\n",
    "        analysis = handler.get_analysis()\n",
    "        print(f\"AAPL Analysis: {analysis.summary}\")\n",
    "        print(f\"AAPL Indicators: {analysis.indicators}\")\n",
    "    except Exception as e:\n",
    "        print(f\"Error: {e}\")\n",
    "\n",
    "# データを定期的に取得する\n",
    "while True:\n",
    "    get_aapl_data()\n",
    "    time.sleep(10)  # 1時間ごとにデータを取得\n"
   ]
  },
  {
   "cell_type": "code",
   "execution_count": null,
   "metadata": {},
   "outputs": [],
   "source": []
  }
 ],
 "metadata": {
  "kernelspec": {
   "display_name": "Python 3",
   "language": "python",
   "name": "python3"
  },
  "language_info": {
   "codemirror_mode": {
    "name": "ipython",
    "version": 3
   },
   "file_extension": ".py",
   "mimetype": "text/x-python",
   "name": "python",
   "nbconvert_exporter": "python",
   "pygments_lexer": "ipython3",
   "version": "3.9.9"
  }
 },
 "nbformat": 4,
 "nbformat_minor": 2
}
