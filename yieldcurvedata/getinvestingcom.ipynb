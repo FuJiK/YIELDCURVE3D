{
 "cells": [
  {
   "cell_type": "code",
   "execution_count": 1,
   "metadata": {},
   "outputs": [],
   "source": [
    "import investpy"
   ]
  },
  {
   "cell_type": "code",
   "execution_count": 2,
   "metadata": {},
   "outputs": [
    {
     "ename": "ConnectionError",
     "evalue": "ERR#0015: error 403, try again later.",
     "output_type": "error",
     "traceback": [
      "\u001b[0;31m---------------------------------------------------------------------------\u001b[0m",
      "\u001b[0;31mConnectionError\u001b[0m                           Traceback (most recent call last)",
      "Cell \u001b[0;32mIn[2], line 2\u001b[0m\n\u001b[1;32m      1\u001b[0m \u001b[38;5;66;03m# AAPLの株価データの取得\u001b[39;00m\n\u001b[0;32m----> 2\u001b[0m df \u001b[38;5;241m=\u001b[39m \u001b[43minvestpy\u001b[49m\u001b[38;5;241;43m.\u001b[39;49m\u001b[43mget_stock_historical_data\u001b[49m\u001b[43m(\u001b[49m\u001b[43mstock\u001b[49m\u001b[38;5;241;43m=\u001b[39;49m\u001b[38;5;124;43m'\u001b[39;49m\u001b[38;5;124;43mAAPL\u001b[39;49m\u001b[38;5;124;43m'\u001b[39;49m\u001b[43m,\u001b[49m\u001b[43m \u001b[49m\u001b[43mcountry\u001b[49m\u001b[38;5;241;43m=\u001b[39;49m\u001b[38;5;124;43m'\u001b[39;49m\u001b[38;5;124;43munited states\u001b[39;49m\u001b[38;5;124;43m'\u001b[39;49m\u001b[43m,\u001b[49m\n\u001b[1;32m      3\u001b[0m \u001b[43m                                        \u001b[49m\u001b[43mfrom_date\u001b[49m\u001b[38;5;241;43m=\u001b[39;49m\u001b[38;5;124;43m'\u001b[39;49m\u001b[38;5;124;43m01/01/2010\u001b[39;49m\u001b[38;5;124;43m'\u001b[39;49m\u001b[43m,\u001b[49m\u001b[43mto_date\u001b[49m\u001b[38;5;241;43m=\u001b[39;49m\u001b[38;5;124;43m'\u001b[39;49m\u001b[38;5;124;43m10/06/2021\u001b[39;49m\u001b[38;5;124;43m'\u001b[39;49m\u001b[43m)\u001b[49m\n",
      "File \u001b[0;32m~/.anyenv/envs/pyenv/versions/3.9.9/lib/python3.9/site-packages/investpy/stocks.py:664\u001b[0m, in \u001b[0;36mget_stock_historical_data\u001b[0;34m(stock, country, from_date, to_date, as_json, order, interval)\u001b[0m\n\u001b[1;32m    661\u001b[0m req \u001b[39m=\u001b[39m requests\u001b[39m.\u001b[39mpost(url, headers\u001b[39m=\u001b[39mhead, data\u001b[39m=\u001b[39mparams)\n\u001b[1;32m    663\u001b[0m \u001b[39mif\u001b[39;00m req\u001b[39m.\u001b[39mstatus_code \u001b[39m!=\u001b[39m \u001b[39m200\u001b[39m:\n\u001b[0;32m--> 664\u001b[0m     \u001b[39mraise\u001b[39;00m \u001b[39mConnectionError\u001b[39;00m(\n\u001b[1;32m    665\u001b[0m         \u001b[39m\"\u001b[39m\u001b[39mERR#0015: error \u001b[39m\u001b[39m\"\u001b[39m \u001b[39m+\u001b[39m \u001b[39mstr\u001b[39m(req\u001b[39m.\u001b[39mstatus_code) \u001b[39m+\u001b[39m \u001b[39m\"\u001b[39m\u001b[39m, try again later.\u001b[39m\u001b[39m\"\u001b[39m\n\u001b[1;32m    666\u001b[0m     )\n\u001b[1;32m    668\u001b[0m \u001b[39mif\u001b[39;00m \u001b[39mnot\u001b[39;00m req\u001b[39m.\u001b[39mtext:\n\u001b[1;32m    669\u001b[0m     \u001b[39mcontinue\u001b[39;00m\n",
      "\u001b[0;31mConnectionError\u001b[0m: ERR#0015: error 403, try again later."
     ]
    }
   ],
   "source": [
    "# AAPLの株価データの取得\n",
    "df = investpy.get_stock_historical_data(stock='AAPL', country='united states',\n",
    "                                        from_date='01/01/2010',to_date='10/06/2021')"
   ]
  },
  {
   "cell_type": "code",
   "execution_count": null,
   "metadata": {},
   "outputs": [],
   "source": [
    "from datetime import date\n",
    "# 本日日付を準備\n",
    "today = date.today().strftime('%d/%m/%Y')"
   ]
  },
  {
   "cell_type": "code",
   "execution_count": null,
   "metadata": {},
   "outputs": [
    {
     "name": "stdout",
     "output_type": "stream",
     "text": [
      "28/01/2023\n"
     ]
    }
   ],
   "source": [
    "print(today)"
   ]
  },
  {
   "cell_type": "code",
   "execution_count": null,
   "metadata": {},
   "outputs": [
    {
     "ename": "ConnectionError",
     "evalue": "ERR#0015: error 403, try again later.",
     "output_type": "error",
     "traceback": [
      "\u001b[0;31m---------------------------------------------------------------------------\u001b[0m",
      "\u001b[0;31mConnectionError\u001b[0m                           Traceback (most recent call last)",
      "Cell \u001b[0;32mIn[6], line 2\u001b[0m\n\u001b[1;32m      1\u001b[0m \u001b[38;5;66;03m# ETF SPYのデータ取得\u001b[39;00m\n\u001b[0;32m----> 2\u001b[0m df \u001b[38;5;241m=\u001b[39m \u001b[43minvestpy\u001b[49m\u001b[38;5;241;43m.\u001b[39;49m\u001b[43mget_etf_historical_data\u001b[49m\u001b[43m(\u001b[49m\u001b[43metf\u001b[49m\u001b[38;5;241;43m=\u001b[39;49m\u001b[38;5;124;43m'\u001b[39;49m\u001b[38;5;124;43mSPDR S&P 500\u001b[39;49m\u001b[38;5;124;43m'\u001b[39;49m\u001b[43m,\u001b[49m\u001b[43mcountry\u001b[49m\u001b[38;5;241;43m=\u001b[39;49m\u001b[38;5;124;43m'\u001b[39;49m\u001b[38;5;124;43munited states\u001b[39;49m\u001b[38;5;124;43m'\u001b[39;49m\u001b[43m,\u001b[49m\n\u001b[1;32m      3\u001b[0m \u001b[43m                                      \u001b[49m\u001b[43mfrom_date\u001b[49m\u001b[38;5;241;43m=\u001b[39;49m\u001b[38;5;124;43m'\u001b[39;49m\u001b[38;5;124;43m01/01/2010\u001b[39;49m\u001b[38;5;124;43m'\u001b[39;49m\u001b[43m,\u001b[49m\u001b[43mto_date\u001b[49m\u001b[38;5;241;43m=\u001b[39;49m\u001b[43mtoday\u001b[49m\u001b[43m)\u001b[49m\n",
      "File \u001b[0;32m~/.anyenv/envs/pyenv/versions/3.9.9/lib/python3.9/site-packages/investpy/etfs.py:869\u001b[0m, in \u001b[0;36mget_etf_historical_data\u001b[0;34m(etf, country, from_date, to_date, stock_exchange, as_json, order, interval)\u001b[0m\n\u001b[1;32m    866\u001b[0m req \u001b[39m=\u001b[39m requests\u001b[39m.\u001b[39mpost(url, headers\u001b[39m=\u001b[39mhead, data\u001b[39m=\u001b[39mparams)\n\u001b[1;32m    868\u001b[0m \u001b[39mif\u001b[39;00m req\u001b[39m.\u001b[39mstatus_code \u001b[39m!=\u001b[39m \u001b[39m200\u001b[39m:\n\u001b[0;32m--> 869\u001b[0m     \u001b[39mraise\u001b[39;00m \u001b[39mConnectionError\u001b[39;00m(\n\u001b[1;32m    870\u001b[0m         \u001b[39m\"\u001b[39m\u001b[39mERR#0015: error \u001b[39m\u001b[39m\"\u001b[39m \u001b[39m+\u001b[39m \u001b[39mstr\u001b[39m(req\u001b[39m.\u001b[39mstatus_code) \u001b[39m+\u001b[39m \u001b[39m\"\u001b[39m\u001b[39m, try again later.\u001b[39m\u001b[39m\"\u001b[39m\n\u001b[1;32m    871\u001b[0m     )\n\u001b[1;32m    873\u001b[0m \u001b[39mif\u001b[39;00m \u001b[39mnot\u001b[39;00m req\u001b[39m.\u001b[39mtext:\n\u001b[1;32m    874\u001b[0m     \u001b[39mcontinue\u001b[39;00m\n",
      "\u001b[0;31mConnectionError\u001b[0m: ERR#0015: error 403, try again later."
     ]
    }
   ],
   "source": [
    "# ETF SPYのデータ取得\n",
    "df = investpy.get_etf_historical_data(etf='SPDR S&P 500',country='united states',\n",
    "                                      from_date='01/01/2010',to_date=today)"
   ]
  },
  {
   "cell_type": "code",
   "execution_count": null,
   "metadata": {},
   "outputs": [
    {
     "ename": "NameError",
     "evalue": "name 'bond' is not defined",
     "output_type": "error",
     "traceback": [
      "\u001b[0;31m---------------------------------------------------------------------------\u001b[0m",
      "\u001b[0;31mNameError\u001b[0m                                 Traceback (most recent call last)",
      "Cell \u001b[0;32mIn[7], line 1\u001b[0m\n\u001b[0;32m----> 1\u001b[0m investpy\u001b[38;5;241m.\u001b[39mbonds\u001b[38;5;241m.\u001b[39mget_bond_recent_data(\u001b[43mbond\u001b[49m, as_json\u001b[38;5;241m=\u001b[39m\u001b[38;5;28;01mFalse\u001b[39;00m, order\u001b[38;5;241m=\u001b[39m\u001b[38;5;124m'\u001b[39m\u001b[38;5;124mascending\u001b[39m\u001b[38;5;124m'\u001b[39m, interval\u001b[38;5;241m=\u001b[39m\u001b[38;5;124m'\u001b[39m\u001b[38;5;124mDaily\u001b[39m\u001b[38;5;124m'\u001b[39m )\n",
      "\u001b[0;31mNameError\u001b[0m: name 'bond' is not defined"
     ]
    }
   ],
   "source": [
    "\n",
    "investpy.bonds.get_bond_recent_data(bond, as_json=False, order='ascending', interval='Daily' )\n"
   ]
  },
  {
   "cell_type": "code",
   "execution_count": null,
   "metadata": {},
   "outputs": [
    {
     "name": "stdout",
     "output_type": "stream",
     "text": [
      "総数： 74\n",
      "一部抜粋 ['italy', 'japan', 'jordan', 'kenya', 'latvia']\n",
      "         ['ukraine', 'united kingdom', 'united states', 'venezuela', 'vietnam']\n",
      "総数： 10\n",
      "['U.S. 30Y', 'U.S. 10Y', 'U.S. 7Y', 'U.S. 5Y', 'U.S. 3Y']\n",
      "['U.S. 3M', 'U.S. 1Y', 'U.S. 6M', 'U.S. 1M', 'U.S. 2Y']\n"
     ]
    },
    {
     "ename": "ConnectionError",
     "evalue": "ERR#0015: error 403, try again later.",
     "output_type": "error",
     "traceback": [
      "\u001b[0;31m---------------------------------------------------------------------------\u001b[0m",
      "\u001b[0;31mConnectionError\u001b[0m                           Traceback (most recent call last)",
      "Cell \u001b[0;32mIn[9], line 65\u001b[0m\n\u001b[1;32m     52\u001b[0m \u001b[38;5;28mprint\u001b[39m(zz[\u001b[38;5;241m5\u001b[39m:])\n\u001b[1;32m     53\u001b[0m \u001b[38;5;66;03m# ------------------------- Debug\u001b[39;00m\n\u001b[1;32m     54\u001b[0m \n\u001b[1;32m     55\u001b[0m \u001b[38;5;66;03m# -------------------------------------------------------------------------------\u001b[39;00m\n\u001b[0;32m   (...)\u001b[0m\n\u001b[1;32m     62\u001b[0m \u001b[38;5;66;03m# [bonds：米国２年債] 時系列データ取得\u001b[39;00m\n\u001b[1;32m     63\u001b[0m \u001b[38;5;66;03m# ------------------------------------------\u001b[39;00m\n\u001b[0;32m---> 65\u001b[0m df \u001b[38;5;241m=\u001b[39m \u001b[43miv\u001b[49m\u001b[38;5;241;43m.\u001b[39;49m\u001b[43mbonds\u001b[49m\u001b[38;5;241;43m.\u001b[39;49m\u001b[43mget_bond_historical_data\u001b[49m\u001b[43m(\u001b[49m\u001b[38;5;124;43m\"\u001b[39;49m\u001b[38;5;124;43mU.S. 2Y\u001b[39;49m\u001b[38;5;124;43m\"\u001b[39;49m\u001b[43m,\u001b[49m\u001b[43m \u001b[49m\u001b[43minterval\u001b[49m\u001b[38;5;241;43m=\u001b[39;49m\u001b[38;5;124;43m\"\u001b[39;49m\u001b[38;5;124;43mDaily\u001b[39;49m\u001b[38;5;124;43m\"\u001b[39;49m\u001b[43m,\u001b[49m\n\u001b[1;32m     66\u001b[0m \u001b[43m                                       \u001b[49m\u001b[43mfrom_date\u001b[49m\u001b[38;5;241;43m=\u001b[39;49m\u001b[38;5;124;43m\"\u001b[39;49m\u001b[38;5;124;43m07/01/2010\u001b[39;49m\u001b[38;5;124;43m\"\u001b[39;49m\u001b[43m,\u001b[49m\u001b[43m \u001b[49m\u001b[43mto_date\u001b[49m\u001b[38;5;241;43m=\u001b[39;49m\u001b[38;5;124;43m\"\u001b[39;49m\u001b[38;5;124;43m12/09/2022\u001b[39;49m\u001b[38;5;124;43m\"\u001b[39;49m\u001b[43m)\u001b[49m\n\u001b[1;32m     67\u001b[0m \u001b[38;5;66;03m# -------------------------------------------------------------\u001b[39;00m\n\u001b[1;32m     68\u001b[0m \u001b[38;5;66;03m# ＜Note＞ 日付を \"文字列\" で指定する。[形式 '%d/%m/%Y' にする]\u001b[39;00m\n\u001b[1;32m     69\u001b[0m \u001b[38;5;66;03m#          datetime型での指定はできない模様\u001b[39;00m\n\u001b[1;32m     70\u001b[0m \u001b[38;5;66;03m# -------------------------------------------------------------\u001b[39;00m\n\u001b[1;32m     71\u001b[0m \n\u001b[1;32m     72\u001b[0m \u001b[38;5;66;03m# ----------------------- Debug\u001b[39;00m\n\u001b[1;32m     73\u001b[0m \u001b[38;5;28mprint\u001b[39m(df\u001b[38;5;241m.\u001b[39minfo())\n",
      "File \u001b[0;32m~/.anyenv/envs/pyenv/versions/3.9.9/lib/python3.9/site-packages/investpy/bonds.py:596\u001b[0m, in \u001b[0;36mget_bond_historical_data\u001b[0;34m(bond, from_date, to_date, as_json, order, interval)\u001b[0m\n\u001b[1;32m    593\u001b[0m req \u001b[39m=\u001b[39m requests\u001b[39m.\u001b[39mpost(url, headers\u001b[39m=\u001b[39mhead, data\u001b[39m=\u001b[39mparams)\n\u001b[1;32m    595\u001b[0m \u001b[39mif\u001b[39;00m req\u001b[39m.\u001b[39mstatus_code \u001b[39m!=\u001b[39m \u001b[39m200\u001b[39m:\n\u001b[0;32m--> 596\u001b[0m     \u001b[39mraise\u001b[39;00m \u001b[39mConnectionError\u001b[39;00m(\n\u001b[1;32m    597\u001b[0m         \u001b[39m\"\u001b[39m\u001b[39mERR#0015: error \u001b[39m\u001b[39m\"\u001b[39m \u001b[39m+\u001b[39m \u001b[39mstr\u001b[39m(req\u001b[39m.\u001b[39mstatus_code) \u001b[39m+\u001b[39m \u001b[39m\"\u001b[39m\u001b[39m, try again later.\u001b[39m\u001b[39m\"\u001b[39m\n\u001b[1;32m    598\u001b[0m     )\n\u001b[1;32m    600\u001b[0m \u001b[39mif\u001b[39;00m \u001b[39mnot\u001b[39;00m req\u001b[39m.\u001b[39mtext:\n\u001b[1;32m    601\u001b[0m     \u001b[39mcontinue\u001b[39;00m\n",
      "\u001b[0;31mConnectionError\u001b[0m: ERR#0015: error 403, try again later."
     ]
    }
   ],
   "source": [
    "#! /usr/bin/env python3\n",
    "# -*- coding:utf-8 -*-\n",
    "\n",
    "# ================================================\n",
    "# (for Python 3.8)\n",
    "#\n",
    "# ＜債券データ＞\n",
    "#   米国２年債のチャート表示    [from Investing.com]\n",
    "#\n",
    "# [環境]\n",
    "#   Xubntu 20.04 LTS\n",
    "#   Python 3.8.10\n",
    "#   pandas 1.3.4\n",
    "#   Matplotlib 3.1.2\n",
    "#   investpy 1.0.8\n",
    "#\n",
    "# [更新履歴]\n",
    "#   2022/09/12 Ver 1.00 新規作成\n",
    "# ================================================\n",
    "\n",
    "import investpy as iv                   # 金融ポータルサイト\n",
    "import matplotlib.pyplot as plt         # グラフ(チャート)描画\n",
    "import matplotlib.dates  as mdates\n",
    "\n",
    "# --------------------------------------\n",
    "# [事前] 情報の確認\n",
    "# --------------------------------------\n",
    "\n",
    "# --- 国名のリスト[債券データが可能な国] を取得する ---\n",
    "\n",
    "zz = iv.bonds.get_bond_countries()          # 国名リスト [債券データが可能な国]\n",
    "\n",
    "# ------------------------- Debug\n",
    "print(\"総数：\", len(zz))\n",
    "print(\"一部抜粋\", zz[29:34])\n",
    "print(\"        \", zz[69:])\n",
    "# ------------------------- Debug\n",
    "\n",
    "# -------------------------------------------------------------------------------\n",
    "# 総数： 74\n",
    "# 一部抜粋 ['italy', 'japan', 'jordan', 'kenya', 'latvia']\n",
    "#          ['ukraine', 'united kingdom', 'united states', 'venezuela', 'vietnam']\n",
    "# -------------------------------------------------------------------------------\n",
    "\n",
    "# --- 債券のコード名を取得する (米国) ---\n",
    "\n",
    "zz = iv.bonds.get_bonds_list(country=\"united states\")   # 債券のコード名リスト\n",
    "\n",
    "# ------------------------- Debug\n",
    "print(\"総数：\", len(zz))\n",
    "print(zz[:5])\n",
    "print(zz[5:])\n",
    "# ------------------------- Debug\n",
    "\n",
    "# -------------------------------------------------------------------------------\n",
    "# 総数： 10\n",
    "#   ['U.S. 30Y', 'U.S. 10Y', 'U.S. 7Y', 'U.S. 5Y', 'U.S. 3Y']\n",
    "#   ['U.S. 3M',  'U.S. 1Y',  'U.S. 6M', 'U.S. 1M', 'U.S. 2Y']\n",
    "# -------------------------------------------------------------------------------\n",
    "\n",
    "# ------------------------------------------\n",
    "# [bonds：米国２年債] 時系列データ取得\n",
    "# ------------------------------------------\n",
    "\n",
    "df = iv.bonds.get_bond_historical_data(\"U.S. 2Y\", interval=\"Daily\",\n",
    "                                       from_date=\"07/01/2010\", to_date=\"12/09/2022\")\n",
    "# -------------------------------------------------------------\n",
    "# ＜Note＞ 日付を \"文字列\" で指定する。[形式 '%d/%m/%Y' にする]\n",
    "#          datetime型での指定はできない模様\n",
    "# -------------------------------------------------------------\n",
    "\n",
    "# ----------------------- Debug\n",
    "print(df.info())\n",
    "print(df.head(5))\n",
    "print(df.tail(5))\n",
    "# ----------------------- Debug\n",
    "\n",
    "# ---------------------------------------------------------------\n",
    "#  <class 'pandas.core.frame.DataFrame'>\n",
    "#  DatetimeIndex: 3780 entries, ★ 2010-01-07 to 2022-09-12 ★\n",
    "#\n",
    "#  Data columns (total 4 columns):\n",
    "#   #   Column  Non-Null Count  Dtype  \n",
    "#  ---  ------  --------------  -----  \n",
    "#   0   Open    3780 non-null   float64\n",
    "#   1   High    3780 non-null   float64\n",
    "#   2   Low     3780 non-null   float64\n",
    "#   3   Close   3780 non-null   float64\n",
    "#  dtypes: float64(4)\n",
    "#  memory usage: 147.7 KB\n",
    "#\n",
    "#               Open   High    Low  Close\n",
    "#  Date                                  \n",
    "#  2010-01-07  1.028  1.028  1.028  1.028\n",
    "#  2010-01-08  0.976  0.976  0.976  0.976\n",
    "#  2010-01-11  0.940  0.940  0.940  0.940\n",
    "#  2010-01-12  0.907  0.907  0.907  0.907\n",
    "#  2010-01-13  0.964  0.964  0.964  0.964\n",
    "#\n",
    "#              Open    High     Low   Close\n",
    "#  Date                                      \n",
    "#  2022-09-07  3.5110  3.5220  3.4310  3.4392\n",
    "#  2022-09-08  3.4390  3.5140  3.4040  3.5118\n",
    "#  2022-09-09  3.5160  3.5750  3.4590  3.5627\n",
    "#  2022-09-11  3.5648  3.5648  3.5627  3.5627\n",
    "#  2022-09-12  3.5630  3.5860  3.5150  3.5756\n",
    "# ---------------------------------------------------------------\n",
    "\n",
    "# -------------------------------------\n",
    "# チャート描画する \n",
    "# -------------------------------------\n",
    "\n",
    "# --------------------------------------------------------------------\n",
    "# ＜Note＞\n",
    "#     Plot描画メソッドは Pandas.Plotメソッドを使っているが、\n",
    "#     描画処理自体は MatPlotLib をバックエンドで利用していると思われる\n",
    "#\n",
    "#     [参考]  Pandas.Plotメソッド は  \"DataFrame.Plot\" でなくても\n",
    "#             \"Series.Plot\" でも可能。\n",
    "#               a) どちらも Index値(つまり、X軸の表示) は付与される\n",
    "#               b) Seriesだと \"列名\" がなくなるので、凡例の表示も無し\n",
    "#                  (手動で設定すれば別だけれども・・・)\n",
    "# --------------------------------------------------------------------\n",
    "\n",
    "# --- [前準備] 列\"Close\" を index付き で抜き出す ---\n",
    "\n",
    "df_Close = df.filter([\"Close\"])         # DataFrameとして\"列\"抜出し\n",
    "# df_Close = df[\"Close\"]                # Series   として\"列\"抜出し (これでも可)\n",
    "\n",
    "# ------------------------------------ Debug\n",
    "dfcZ = df[\"Close\"]                      # <class 'pandas.core.series.Series'>\n",
    "dfcA = df[\"Close\"].values               # <class 'numpy.ndarray'>\n",
    "dfcB = df.Close.values                  # <class 'numpy.ndarray'>\n",
    "\n",
    "print(type(df_Close))\n",
    "print(type(dfcZ))\n",
    "print(type(dfcA))\n",
    "print(type(dfcB))\n",
    "# ------------------------------------ Debug\n",
    "\n",
    "# --- グラフ設定 ---\n",
    "\n",
    "plt.style.use('ggplot')                                 # スタイルの設定\n",
    "plt.rcParams['figure.figsize'] = [9, 6]                 # グラフのサイズ\n",
    "plt.rcParams['axes.titlesize'] = \"large\"                # タイトルのサイズ\n",
    "                                                        #   例) x-small, medium, large, xx-large  etc\n",
    "# --- \"Pandas\"の Plotメソッドにて描画 ---\n",
    "\n",
    "ax1 = df_Close.plot.line(title=\" U.S Bonds (2Y)\",       # チャート描画 (Pandas.Plotメソッド)\n",
    "                         style=[\"#4444EE\"], fontsize=9) #  Line[色：Blue相当(\"#4444EE\")]\n",
    "                                                        #  x/y軸ラベル fontsize=9\n",
    "ax1.set_ylabel(\"Rate [%]\", size=10)                     # Y軸の名称  (文字size=10)\n",
    "ax1.set_xlabel(\"\")                                      # X軸の名称(\"Date\") は消す  (Index列の名称\"Date\")\n",
    "\n",
    "for ec in ax1.xaxis.get_major_ticks():                  # tick文字(ラベル)の配置を設定\n",
    "    ec.tick1line.set_markersize(0)                      # (Default値へ設定 ?)\n",
    "    ec.tick2line.set_markersize(0)                      # (Default値へ設定 ?)\n",
    "    ec.label1.set_horizontalalignment(\"center\")         # tickラベルの配置 (中央寄せ)\n",
    "                                                        # Defaultでは 左寄せ (らしい？)\n",
    "\n",
    "xaxA = ax1.xaxis                                        # (メソッドを分割)\n",
    "# xaxA = plt.gca().xaxis                                # (メソッドを分割) (これでも可)\n",
    "xaxA.set_major_formatter(mdates.DateFormatter(\"%Y/%m\")) # tick文字の書式 [日付の書式]\n",
    "plt.xticks(rotation=0)                                  # tick文字の回転 [文字長が多ければ 斜傾で配置]\n",
    "\n",
    "plt.show()                                              # 描画チャートの表示(フレームを表示)\n",
    "\n",
    "# ---------------------------------------------------------------------------\n",
    "# ＜LineのStyle設定＞\n",
    "#\n",
    "#   Style設定の文字列：[Color][Marker][line] の順番で指定する。\n",
    "#                      (すべてを指定する必要はなく省略可能)\n",
    "#\n",
    "#     color  : \"r\"(赤),  \"g\"(緑),   \"b\"(青),   \"k\"(黒)    ,\"c\"=Cyan   など等\n",
    "#              (16進文字列で色指定も可能)\n",
    "#     marker : \"o\"(丸),  \".\"(点),   \"s\"(四角), \"+\"(プラス)            など等\n",
    "#     line   : \"-\"(Solid),\"--\"(Dash),\":\"(dot),  \"-.\"(Dash-Dot)        など等\n",
    "#\n",
    "#       例) \"rs--\" ： 赤い破線(Dash) に 四角いマーカー\n",
    "#\n",
    "# ---------------------------------------------------------------------------\n"
   ]
  },
  {
   "cell_type": "code",
   "execution_count": null,
   "metadata": {},
   "outputs": [],
   "source": []
  }
 ],
 "metadata": {
  "kernelspec": {
   "display_name": "Python 3.9.9 64-bit ('3.9.9')",
   "language": "python",
   "name": "python3"
  },
  "language_info": {
   "codemirror_mode": {
    "name": "ipython",
    "version": 3
   },
   "file_extension": ".py",
   "mimetype": "text/x-python",
   "name": "python",
   "nbconvert_exporter": "python",
   "pygments_lexer": "ipython3",
   "version": "3.9.9"
  },
  "orig_nbformat": 4,
  "vscode": {
   "interpreter": {
    "hash": "1c95522b8610f0d060f1fbdf33cabdb485b8ccc74d5b9792def75a3c555f9532"
   }
  }
 },
 "nbformat": 4,
 "nbformat_minor": 2
}
