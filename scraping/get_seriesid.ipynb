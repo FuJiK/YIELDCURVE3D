{
 "cells": [
  {
   "cell_type": "code",
   "execution_count": 1,
   "metadata": {},
   "outputs": [],
   "source": [
    "import pandas as pd\n",
    "import plotly.express as px\n",
    "from fredapi import Fred\n",
    "from credential.api_key import FRED_API_KEY  # api_key.pyからAPIキーをインポート\n",
    "\n",
    "fred = Fred(api_key=FRED_API_KEY)"
   ]
  },
  {
   "cell_type": "code",
   "execution_count": 2,
   "metadata": {},
   "outputs": [],
   "source": [
    "# シリーズIDのリストを作成\n",
    "series_ids = [\"PAYEMS\", \"UNRATE\", \"CPIAUCSL\"]\n",
    "\n",
    "# 各シリーズIDのデータと説明を取得\n",
    "series_data = []\n",
    "\n",
    "for series_id in series_ids:\n",
    "    series_info = fred.get_series_info(series_id)\n",
    "    series_title = series_info[\"title\"]\n",
    "    series_notes = series_info[\"notes\"]\n",
    "    series_data.append({\n",
    "        \"id\": series_id,\n",
    "        \"title\": series_title,\n",
    "        \"notes\": series_notes\n",
    "    })\n"
   ]
  },
  {
   "cell_type": "code",
   "execution_count": 3,
   "metadata": {},
   "outputs": [
    {
     "name": "stdout",
     "output_type": "stream",
     "text": [
      "         id                                              title  \\\n",
      "0    PAYEMS                       All Employees, Total Nonfarm   \n",
      "1    UNRATE                                  Unemployment Rate   \n",
      "2  CPIAUCSL  Consumer Price Index for All Urban Consumers: ...   \n",
      "\n",
      "                                               notes  \n",
      "0  All Employees: Total Nonfarm, commonly known a...  \n",
      "1  The unemployment rate represents the number of...  \n",
      "2  The Consumer Price Index for All Urban Consume...  \n"
     ]
    }
   ],
   "source": [
    "# データフレームに変換\n",
    "df = pd.DataFrame(series_data)\n",
    "\n",
    "print(df)"
   ]
  },
  {
   "cell_type": "code",
   "execution_count": 4,
   "metadata": {},
   "outputs": [
    {
     "data": {
      "text/html": [
       "<div>\n",
       "<style scoped>\n",
       "    .dataframe tbody tr th:only-of-type {\n",
       "        vertical-align: middle;\n",
       "    }\n",
       "\n",
       "    .dataframe tbody tr th {\n",
       "        vertical-align: top;\n",
       "    }\n",
       "\n",
       "    .dataframe thead th {\n",
       "        text-align: right;\n",
       "    }\n",
       "</style>\n",
       "<table border=\"1\" class=\"dataframe\">\n",
       "  <thead>\n",
       "    <tr style=\"text-align: right;\">\n",
       "      <th></th>\n",
       "      <th>id</th>\n",
       "      <th>title</th>\n",
       "      <th>notes</th>\n",
       "    </tr>\n",
       "  </thead>\n",
       "  <tbody>\n",
       "    <tr>\n",
       "      <th>0</th>\n",
       "      <td>PAYEMS</td>\n",
       "      <td>All Employees, Total Nonfarm</td>\n",
       "      <td>All Employees: Total Nonfarm, commonly known a...</td>\n",
       "    </tr>\n",
       "    <tr>\n",
       "      <th>1</th>\n",
       "      <td>UNRATE</td>\n",
       "      <td>Unemployment Rate</td>\n",
       "      <td>The unemployment rate represents the number of...</td>\n",
       "    </tr>\n",
       "    <tr>\n",
       "      <th>2</th>\n",
       "      <td>CPIAUCSL</td>\n",
       "      <td>Consumer Price Index for All Urban Consumers: ...</td>\n",
       "      <td>The Consumer Price Index for All Urban Consume...</td>\n",
       "    </tr>\n",
       "  </tbody>\n",
       "</table>\n",
       "</div>"
      ],
      "text/plain": [
       "         id                                              title  \\\n",
       "0    PAYEMS                       All Employees, Total Nonfarm   \n",
       "1    UNRATE                                  Unemployment Rate   \n",
       "2  CPIAUCSL  Consumer Price Index for All Urban Consumers: ...   \n",
       "\n",
       "                                               notes  \n",
       "0  All Employees: Total Nonfarm, commonly known a...  \n",
       "1  The unemployment rate represents the number of...  \n",
       "2  The Consumer Price Index for All Urban Consume...  "
      ]
     },
     "execution_count": 4,
     "metadata": {},
     "output_type": "execute_result"
    }
   ],
   "source": [
    "df"
   ]
  },
  {
   "cell_type": "code",
   "execution_count": null,
   "metadata": {},
   "outputs": [],
   "source": []
  }
 ],
 "metadata": {
  "kernelspec": {
   "display_name": "Python 3",
   "language": "python",
   "name": "python3"
  },
  "language_info": {
   "codemirror_mode": {
    "name": "ipython",
    "version": 3
   },
   "file_extension": ".py",
   "mimetype": "text/x-python",
   "name": "python",
   "nbconvert_exporter": "python",
   "pygments_lexer": "ipython3",
   "version": "3.9.9"
  },
  "orig_nbformat": 4
 },
 "nbformat": 4,
 "nbformat_minor": 2
}
